{
 "cells": [
  {
   "cell_type": "code",
   "execution_count": 1,
   "id": "musical-coupon",
   "metadata": {},
   "outputs": [],
   "source": [
    "import numpy as np\n",
    "import pandas as pd\n",
    "import matplotlib.pyplot as plt\n",
    "import matplotlib.ticker as ticker\n",
    "from sklearn.utils import shuffle\n",
    "from tqdm import tqdm\n",
    "from sklearn.utils import shuffle\n",
    "import math\n",
    "import sys\n",
    "import os"
   ]
  },
  {
   "cell_type": "code",
   "execution_count": 2,
   "id": "spectacular-skating",
   "metadata": {},
   "outputs": [],
   "source": [
    "legx = 1."
   ]
  },
  {
   "cell_type": "markdown",
   "id": "embedded-killer",
   "metadata": {},
   "source": [
    "# 数据导入"
   ]
  },
  {
   "cell_type": "code",
   "execution_count": 3,
   "id": "acute-photographer",
   "metadata": {},
   "outputs": [],
   "source": [
    "extractedData = pd.read_excel(\"extractedData.xlsx\")\n",
    "extractedData = extractedData.sort_values(by=[\"artists_id\", 'year'], ascending=True)"
   ]
  },
  {
   "cell_type": "code",
   "execution_count": 4,
   "id": "legal-understanding",
   "metadata": {},
   "outputs": [
    {
     "name": "stdout",
     "output_type": "stream",
     "text": [
      "person_num =  5641\n"
     ]
    }
   ],
   "source": [
    "# read_dictionary\n",
    "name_dic = open(\"name_to_id_dictionary.txt\", \"r\")\n",
    "string = \"\"\n",
    "line = 1\n",
    "while line:\n",
    "    line = name_dic.readline()\n",
    "    string += line\n",
    "name_dic = eval(string)\n",
    "person_num = len(name_dic)\n",
    "print(\"person_num = \",person_num)"
   ]
  },
  {
   "cell_type": "code",
   "execution_count": 5,
   "id": "weird-ranch",
   "metadata": {},
   "outputs": [
    {
     "name": "stdout",
     "output_type": "stream",
     "text": [
      "13\n"
     ]
    }
   ],
   "source": [
    "full_music_data = {\"danceability\":[0.5263203874313606,0.16403205144827973],\n",
    "                    \"energy\":[0.5342478371079926,0.26447724025183267],\n",
    "                    \"valence\":[0.5332812944885094,0.2585376133654879],\n",
    "                    \"tempo\":[118.96853772625585,29.925255322835987],\n",
    "                    \"loudness\":[-10.755944010575554,5.067612837357291],\n",
    "                    \"acousticness\":[0.4190568774831198,0.35370999027336875],\n",
    "                    \"instrumentalness\":[0.1255745396816148,0.2724918312399652],\n",
    "                    \"liveness\":[0.20700085794183445,0.18610339608517842],\n",
    "                    \"speechiness\":[0.06380584502745576,0.07610388534934469],\n",
    "                    \"explicit\":[0.037085621313809235,0.18897163280656168],\n",
    "                    \"duration_ms\":[238590.92141549726,108823.17603973577],\n",
    "                    \"mode\":[0.7219951189749847,0.4480158112737567],\n",
    "                    \"popularity\":[35.69332926581249,17.262527298425432],}\n",
    "print(len(full_music_data))"
   ]
  },
  {
   "cell_type": "code",
   "execution_count": 6,
   "id": "coupled-comparative",
   "metadata": {},
   "outputs": [
    {
     "data": {
      "text/html": [
       "<div>\n",
       "<style scoped>\n",
       "    .dataframe tbody tr th:only-of-type {\n",
       "        vertical-align: middle;\n",
       "    }\n",
       "\n",
       "    .dataframe tbody tr th {\n",
       "        vertical-align: top;\n",
       "    }\n",
       "\n",
       "    .dataframe thead th {\n",
       "        text-align: right;\n",
       "    }\n",
       "</style>\n",
       "<table border=\"1\" class=\"dataframe\">\n",
       "  <thead>\n",
       "    <tr style=\"text-align: right;\">\n",
       "      <th></th>\n",
       "      <th>Unnamed: 0</th>\n",
       "      <th>artists_id</th>\n",
       "      <th>danceability</th>\n",
       "      <th>energy</th>\n",
       "      <th>valence</th>\n",
       "      <th>tempo</th>\n",
       "      <th>loudness</th>\n",
       "      <th>acousticness</th>\n",
       "      <th>instrumentalness</th>\n",
       "      <th>liveness</th>\n",
       "      <th>speechiness</th>\n",
       "      <th>explicit</th>\n",
       "      <th>duration_ms</th>\n",
       "      <th>mode</th>\n",
       "      <th>key</th>\n",
       "      <th>popularity</th>\n",
       "      <th>year</th>\n",
       "    </tr>\n",
       "  </thead>\n",
       "  <tbody>\n",
       "    <tr>\n",
       "      <th>77723</th>\n",
       "      <td>77723</td>\n",
       "      <td>74</td>\n",
       "      <td>0.315058</td>\n",
       "      <td>1.250588</td>\n",
       "      <td>-0.179012</td>\n",
       "      <td>-0.061972</td>\n",
       "      <td>0.728932</td>\n",
       "      <td>-1.110110</td>\n",
       "      <td>-0.454049</td>\n",
       "      <td>0.848986</td>\n",
       "      <td>-0.233968</td>\n",
       "      <td>5.09555</td>\n",
       "      <td>-1.086569</td>\n",
       "      <td>0.620525</td>\n",
       "      <td>9</td>\n",
       "      <td>26</td>\n",
       "      <td>1983</td>\n",
       "    </tr>\n",
       "    <tr>\n",
       "      <th>68873</th>\n",
       "      <td>68873</td>\n",
       "      <td>335</td>\n",
       "      <td>-0.355543</td>\n",
       "      <td>0.104932</td>\n",
       "      <td>-0.534859</td>\n",
       "      <td>0.270222</td>\n",
       "      <td>-1.010151</td>\n",
       "      <td>-1.156193</td>\n",
       "      <td>-0.459689</td>\n",
       "      <td>-0.445993</td>\n",
       "      <td>-0.260247</td>\n",
       "      <td>-0.19625</td>\n",
       "      <td>-0.438307</td>\n",
       "      <td>0.620525</td>\n",
       "      <td>1</td>\n",
       "      <td>33</td>\n",
       "      <td>1992</td>\n",
       "    </tr>\n",
       "    <tr>\n",
       "      <th>68876</th>\n",
       "      <td>68876</td>\n",
       "      <td>335</td>\n",
       "      <td>-0.629879</td>\n",
       "      <td>-0.034966</td>\n",
       "      <td>0.416646</td>\n",
       "      <td>1.090031</td>\n",
       "      <td>-1.153809</td>\n",
       "      <td>-1.171516</td>\n",
       "      <td>-0.449425</td>\n",
       "      <td>-0.558834</td>\n",
       "      <td>-0.343029</td>\n",
       "      <td>-0.19625</td>\n",
       "      <td>-0.371161</td>\n",
       "      <td>0.620525</td>\n",
       "      <td>11</td>\n",
       "      <td>31</td>\n",
       "      <td>1992</td>\n",
       "    </tr>\n",
       "    <tr>\n",
       "      <th>68874</th>\n",
       "      <td>68874</td>\n",
       "      <td>335</td>\n",
       "      <td>-0.623783</td>\n",
       "      <td>0.437664</td>\n",
       "      <td>0.849852</td>\n",
       "      <td>0.241885</td>\n",
       "      <td>-1.071916</td>\n",
       "      <td>-1.183268</td>\n",
       "      <td>2.669531</td>\n",
       "      <td>-0.515847</td>\n",
       "      <td>0.048541</td>\n",
       "      <td>-0.19625</td>\n",
       "      <td>-0.872277</td>\n",
       "      <td>0.620525</td>\n",
       "      <td>7</td>\n",
       "      <td>38</td>\n",
       "      <td>1993</td>\n",
       "    </tr>\n",
       "    <tr>\n",
       "      <th>68878</th>\n",
       "      <td>68878</td>\n",
       "      <td>335</td>\n",
       "      <td>0.967370</td>\n",
       "      <td>-0.859234</td>\n",
       "      <td>1.155417</td>\n",
       "      <td>0.335017</td>\n",
       "      <td>-1.651479</td>\n",
       "      <td>-1.128769</td>\n",
       "      <td>-0.447076</td>\n",
       "      <td>-0.531967</td>\n",
       "      <td>0.076135</td>\n",
       "      <td>-0.19625</td>\n",
       "      <td>-0.388556</td>\n",
       "      <td>-1.611539</td>\n",
       "      <td>9</td>\n",
       "      <td>41</td>\n",
       "      <td>1993</td>\n",
       "    </tr>\n",
       "    <tr>\n",
       "      <th>...</th>\n",
       "      <td>...</td>\n",
       "      <td>...</td>\n",
       "      <td>...</td>\n",
       "      <td>...</td>\n",
       "      <td>...</td>\n",
       "      <td>...</td>\n",
       "      <td>...</td>\n",
       "      <td>...</td>\n",
       "      <td>...</td>\n",
       "      <td>...</td>\n",
       "      <td>...</td>\n",
       "      <td>...</td>\n",
       "      <td>...</td>\n",
       "      <td>...</td>\n",
       "      <td>...</td>\n",
       "      <td>...</td>\n",
       "      <td>...</td>\n",
       "    </tr>\n",
       "    <tr>\n",
       "      <th>60481</th>\n",
       "      <td>60481</td>\n",
       "      <td>3661296</td>\n",
       "      <td>0.717418</td>\n",
       "      <td>1.156062</td>\n",
       "      <td>1.190228</td>\n",
       "      <td>-0.666077</td>\n",
       "      <td>1.173717</td>\n",
       "      <td>-0.726745</td>\n",
       "      <td>-0.460838</td>\n",
       "      <td>-0.790425</td>\n",
       "      <td>-0.289155</td>\n",
       "      <td>-0.19625</td>\n",
       "      <td>-0.348987</td>\n",
       "      <td>0.620525</td>\n",
       "      <td>8</td>\n",
       "      <td>53</td>\n",
       "      <td>2012</td>\n",
       "    </tr>\n",
       "    <tr>\n",
       "      <th>60483</th>\n",
       "      <td>60483</td>\n",
       "      <td>3661296</td>\n",
       "      <td>1.613585</td>\n",
       "      <td>0.898951</td>\n",
       "      <td>-0.221559</td>\n",
       "      <td>0.234700</td>\n",
       "      <td>1.389401</td>\n",
       "      <td>-1.019357</td>\n",
       "      <td>-0.459950</td>\n",
       "      <td>-0.695317</td>\n",
       "      <td>-0.320691</td>\n",
       "      <td>-0.19625</td>\n",
       "      <td>-0.199019</td>\n",
       "      <td>0.620525</td>\n",
       "      <td>10</td>\n",
       "      <td>54</td>\n",
       "      <td>2012</td>\n",
       "    </tr>\n",
       "    <tr>\n",
       "      <th>60480</th>\n",
       "      <td>60480</td>\n",
       "      <td>3661296</td>\n",
       "      <td>0.851539</td>\n",
       "      <td>1.042631</td>\n",
       "      <td>1.074191</td>\n",
       "      <td>-0.666512</td>\n",
       "      <td>1.219893</td>\n",
       "      <td>-0.755016</td>\n",
       "      <td>-0.460838</td>\n",
       "      <td>-0.782903</td>\n",
       "      <td>-0.236596</td>\n",
       "      <td>-0.19625</td>\n",
       "      <td>-0.352663</td>\n",
       "      <td>0.620525</td>\n",
       "      <td>8</td>\n",
       "      <td>58</td>\n",
       "      <td>2013</td>\n",
       "    </tr>\n",
       "    <tr>\n",
       "      <th>73261</th>\n",
       "      <td>73261</td>\n",
       "      <td>3661738</td>\n",
       "      <td>-0.215326</td>\n",
       "      <td>-0.484911</td>\n",
       "      <td>-0.983537</td>\n",
       "      <td>0.704504</td>\n",
       "      <td>-0.503799</td>\n",
       "      <td>1.133536</td>\n",
       "      <td>0.438272</td>\n",
       "      <td>-0.456740</td>\n",
       "      <td>-0.473114</td>\n",
       "      <td>-0.19625</td>\n",
       "      <td>0.472134</td>\n",
       "      <td>0.620525</td>\n",
       "      <td>5</td>\n",
       "      <td>58</td>\n",
       "      <td>2015</td>\n",
       "    </tr>\n",
       "    <tr>\n",
       "      <th>93614</th>\n",
       "      <td>93614</td>\n",
       "      <td>3670556</td>\n",
       "      <td>1.406308</td>\n",
       "      <td>0.887608</td>\n",
       "      <td>0.931078</td>\n",
       "      <td>0.172445</td>\n",
       "      <td>0.881074</td>\n",
       "      <td>0.279730</td>\n",
       "      <td>-0.460838</td>\n",
       "      <td>0.682412</td>\n",
       "      <td>0.465077</td>\n",
       "      <td>5.09555</td>\n",
       "      <td>-0.230198</td>\n",
       "      <td>-1.611539</td>\n",
       "      <td>5</td>\n",
       "      <td>60</td>\n",
       "      <td>2017</td>\n",
       "    </tr>\n",
       "  </tbody>\n",
       "</table>\n",
       "<p>98340 rows × 17 columns</p>\n",
       "</div>"
      ],
      "text/plain": [
       "       Unnamed: 0  artists_id  danceability    energy   valence     tempo  \\\n",
       "77723       77723          74      0.315058  1.250588 -0.179012 -0.061972   \n",
       "68873       68873         335     -0.355543  0.104932 -0.534859  0.270222   \n",
       "68876       68876         335     -0.629879 -0.034966  0.416646  1.090031   \n",
       "68874       68874         335     -0.623783  0.437664  0.849852  0.241885   \n",
       "68878       68878         335      0.967370 -0.859234  1.155417  0.335017   \n",
       "...           ...         ...           ...       ...       ...       ...   \n",
       "60481       60481     3661296      0.717418  1.156062  1.190228 -0.666077   \n",
       "60483       60483     3661296      1.613585  0.898951 -0.221559  0.234700   \n",
       "60480       60480     3661296      0.851539  1.042631  1.074191 -0.666512   \n",
       "73261       73261     3661738     -0.215326 -0.484911 -0.983537  0.704504   \n",
       "93614       93614     3670556      1.406308  0.887608  0.931078  0.172445   \n",
       "\n",
       "       loudness  acousticness  instrumentalness  liveness  speechiness  \\\n",
       "77723  0.728932     -1.110110         -0.454049  0.848986    -0.233968   \n",
       "68873 -1.010151     -1.156193         -0.459689 -0.445993    -0.260247   \n",
       "68876 -1.153809     -1.171516         -0.449425 -0.558834    -0.343029   \n",
       "68874 -1.071916     -1.183268          2.669531 -0.515847     0.048541   \n",
       "68878 -1.651479     -1.128769         -0.447076 -0.531967     0.076135   \n",
       "...         ...           ...               ...       ...          ...   \n",
       "60481  1.173717     -0.726745         -0.460838 -0.790425    -0.289155   \n",
       "60483  1.389401     -1.019357         -0.459950 -0.695317    -0.320691   \n",
       "60480  1.219893     -0.755016         -0.460838 -0.782903    -0.236596   \n",
       "73261 -0.503799      1.133536          0.438272 -0.456740    -0.473114   \n",
       "93614  0.881074      0.279730         -0.460838  0.682412     0.465077   \n",
       "\n",
       "       explicit  duration_ms      mode  key  popularity  year  \n",
       "77723   5.09555    -1.086569  0.620525    9          26  1983  \n",
       "68873  -0.19625    -0.438307  0.620525    1          33  1992  \n",
       "68876  -0.19625    -0.371161  0.620525   11          31  1992  \n",
       "68874  -0.19625    -0.872277  0.620525    7          38  1993  \n",
       "68878  -0.19625    -0.388556 -1.611539    9          41  1993  \n",
       "...         ...          ...       ...  ...         ...   ...  \n",
       "60481  -0.19625    -0.348987  0.620525    8          53  2012  \n",
       "60483  -0.19625    -0.199019  0.620525   10          54  2012  \n",
       "60480  -0.19625    -0.352663  0.620525    8          58  2013  \n",
       "73261  -0.19625     0.472134  0.620525    5          58  2015  \n",
       "93614   5.09555    -0.230198 -1.611539    5          60  2017  \n",
       "\n",
       "[98340 rows x 17 columns]"
      ]
     },
     "execution_count": 6,
     "metadata": {},
     "output_type": "execute_result"
    }
   ],
   "source": [
    "for i ,key in enumerate(full_music_data):\n",
    "    mean, var = full_music_data[key]\n",
    "    if key != \"popularity\":\n",
    "        sample = extractedData.loc[:,key]\n",
    "        sample = (sample - mean)/ var\n",
    "        extractedData.loc[:,key] = sample\n",
    "extractedData"
   ]
  },
  {
   "cell_type": "markdown",
   "id": "respective-courtesy",
   "metadata": {},
   "source": [
    "# 前戏"
   ]
  },
  {
   "cell_type": "code",
   "execution_count": 7,
   "id": "efficient-maryland",
   "metadata": {},
   "outputs": [
    {
     "name": "stdout",
     "output_type": "stream",
     "text": [
      "artist_number =  [938 692 684 ...   1   1   1]\n",
      "index =  [ 26350 792507  79016 ... 562144 830375  26637]\n",
      "artist_num =  [ 1 16 11 ...  9  1  1]\n",
      "artist_position =  [    1    17    28 ... 98338 98339 98340]\n"
     ]
    },
    {
     "data": {
      "text/plain": [
       "[98339, 98340]"
      ]
     },
     "execution_count": 7,
     "metadata": {},
     "output_type": "execute_result"
    }
   ],
   "source": [
    "# 得到 range_list\n",
    "def get_range_list(DataFrame, pnt = True):\n",
    "    artist_number_df = DataFrame[\"artists_id\"].value_counts()\n",
    "    artist_number = artist_number_df.values\n",
    "    index = artist_number_df.index.values\n",
    "    print(\"artist_number = \", artist_number)  # 对应id艺术家作品的数目\n",
    "    artist_dict = {}\n",
    "    for i in range(len(artist_number)):\n",
    "        artist_dict[index[i]] = artist_number[i]\n",
    "\n",
    "    index_sorted = np.sort(index)\n",
    "    artist_num =[]\n",
    "    for i in range(len(index_sorted)):\n",
    "        artist_num.append([index_sorted[i],artist_dict[index_sorted[i]]])\n",
    "    artist_num = np.array(artist_num).T[-1].astype(int)\n",
    "    artist_position = np.cumsum(artist_num)\n",
    "    \n",
    "    if pnt:\n",
    "        print(\"index = \", index)  # 艺术家的id\n",
    "        print(\"artist_num = \", artist_num) # 对应id艺术家作品的数目\n",
    "        print(\"artist_position = \", artist_position)\n",
    "    \n",
    "    pos = 0\n",
    "    range_list = []\n",
    "    for i in range(len(artist_position)):\n",
    "        range_list.append([pos, artist_position[i]])\n",
    "        pos = artist_position[i]\n",
    "    \n",
    "    return range_list\n",
    "\n",
    "get_range_list(extractedData)[-1]"
   ]
  },
  {
   "cell_type": "code",
   "execution_count": 8,
   "id": "coordinated-cancellation",
   "metadata": {},
   "outputs": [],
   "source": [
    "# 得到 特征向量\n",
    "\n",
    "Key_places = {0:0, 7:1, 2:2, 9:3, 4:4, 11:5,\n",
    "              6:6, 1:7, 8:8, 3:9,10:10, 5:11}\n",
    "def get_character_vector(dataFrame):\n",
    "    \n",
    "    # 获得 artist 的 id\n",
    "    artists_id = dataFrame.loc[:,\"artists_id\"].values\n",
    "#     print(artists_id)\n",
    "    \n",
    "    columns = [\"danceability\",\"energy\",\"valence\",\"tempo\", \"loudness\",\n",
    "               \"acousticness\",\"instrumentalness\",\"liveness\",\n",
    "               \"speechiness\",\"explicit\",\"duration_ms\", \"mode\"]\n",
    "    popularity_set = dataFrame.loc[:,\"popularity\"].values + 1\n",
    "    popularity_total = popularity_set.sum()\n",
    "\n",
    "    character_vector = []\n",
    "    for column in columns:\n",
    "        vector = dataFrame.loc[:,column].values\n",
    "        mean = ((popularity_set * vector) / popularity_total).sum()\n",
    "        character_vector.append(mean)\n",
    "    \n",
    "    key_x, key_y = [], []\n",
    "    key_set = dataFrame.loc[:,\"key\"].values\n",
    "    for i in range(len(popularity_set)):\n",
    "        theta = math.pi / 6 * Key_places[key_set[i]]\n",
    "        key_x.append(math.sin(theta))\n",
    "        key_y.append(math.cos(theta))\n",
    "    key_x = np.array(key_x)\n",
    "    key_y = np.array(key_y)\n",
    "    character_vector.append(((key_x * popularity_set) / popularity_total).sum())\n",
    "    character_vector.append(((key_y * popularity_set) / popularity_total).sum())\n",
    "\n",
    "    return np.array(character_vector), artists_id, popularity_total\n",
    "    \n",
    "# get_character_vector(subFrame)\n"
   ]
  },
  {
   "cell_type": "code",
   "execution_count": 9,
   "id": "embedded-culture",
   "metadata": {},
   "outputs": [],
   "source": [
    "# 得到风格的变化\n",
    "\n",
    "def get_character_difference(dataFrame, x_0 = legx):\n",
    "#     if len(dataFrame) == 0:\n",
    "#         print(dataFrame)\n",
    "#         return\n",
    "\n",
    "    # 获得 artist 的 id\n",
    "    artists_id = dataFrame.loc[:,\"artists_id\"].values\n",
    "#     print(artists_id)\n",
    "    dataFrame = dataFrame.sort_values(by=[\"artists_id\", 'year'], ascending=True)\n",
    "    columns = [\"danceability\",\"energy\",\"valence\",\"tempo\", \"loudness\",\n",
    "               \"acousticness\",\"instrumentalness\",\"liveness\",\n",
    "               \"speechiness\",\"explicit\",\"duration_ms\", \"mode\"]\n",
    "    popularity_set = dataFrame.loc[:,\"popularity\"].values + 1\n",
    "    works_number = len(popularity_set)\n",
    "    x_axis = np.arange(works_number)\n",
    "    power = (x_axis - (works_number - 1)/2 )/ x_0\n",
    "    weight_start = 1 / (np.exp(power) + 1)\n",
    "    weight_end = 1 / (np.exp(-power)+1)\n",
    "    \n",
    "#     print(weight_start)\n",
    "#     print(weight_end)\n",
    "    \n",
    "    \n",
    "    vector_start_list = []\n",
    "    vector_end_list   = []\n",
    "\n",
    "    for column in columns:\n",
    "        vector = dataFrame.loc[:,column].values\n",
    "        start_mean = (popularity_set * vector * weight_start).sum() / (popularity_set * weight_start).sum()\n",
    "        end_mean   = (popularity_set * vector * weight_end  ).sum() / (popularity_set * weight_start).sum()\n",
    "        vector_start_list.append(start_mean)\n",
    "        vector_end_list.append(end_mean)\n",
    "    \n",
    "    key_x, key_y = [], []\n",
    "    key_set = dataFrame.loc[:,\"key\"].values\n",
    "    for i in range(len(popularity_set)):\n",
    "        theta = math.pi / 6 * Key_places[key_set[i]]\n",
    "        key_x.append(math.sin(theta))\n",
    "        key_y.append(math.cos(theta))\n",
    "    key_x = np.array(key_x)\n",
    "    key_y = np.array(key_y)\n",
    "    key_x_mean = (key_x * popularity_set * weight_start).sum() / (popularity_set * weight_start).sum()\n",
    "    key_y_mean = (key_y * popularity_set * weight_start).sum() / (popularity_set * weight_start).sum()\n",
    "\n",
    "    vector_start_list.append(key_x_mean)\n",
    "    vector_start_list.append(key_y_mean)\n",
    "    vector_end_list.append(key_x_mean)\n",
    "    vector_end_list.append(key_y_mean)\n",
    "\n",
    "    \n",
    "    vector_start = np.array(vector_start_list)\n",
    "    vector_end   = np.array(vector_end_list)\n",
    "\n",
    "    return vector_start,vector_end, artists_id\n",
    "\n",
    "\n",
    "# get_character_difference(subFrame)"
   ]
  },
  {
   "cell_type": "code",
   "execution_count": 10,
   "id": "polar-syndication",
   "metadata": {},
   "outputs": [
    {
     "data": {
      "text/plain": [
       "Unnamed: 0            int64\n",
       "artists_id            int64\n",
       "danceability        float64\n",
       "energy              float64\n",
       "valence             float64\n",
       "tempo               float64\n",
       "loudness            float64\n",
       "acousticness        float64\n",
       "instrumentalness    float64\n",
       "liveness            float64\n",
       "speechiness         float64\n",
       "explicit            float64\n",
       "duration_ms         float64\n",
       "mode                float64\n",
       "key                   int64\n",
       "popularity            int64\n",
       "year                  int64\n",
       "dtype: object"
      ]
     },
     "execution_count": 10,
     "metadata": {},
     "output_type": "execute_result"
    }
   ],
   "source": [
    "extractedData\n",
    "extractedData.dtypes"
   ]
  },
  {
   "cell_type": "markdown",
   "id": "protected-symbol",
   "metadata": {},
   "source": [
    "# 风格自身变化较大\n",
    "\n",
    "## （note：每个艺术家作为独立的个体视为等同，没有采用popularity进行加权）"
   ]
  },
  {
   "cell_type": "code",
   "execution_count": 16,
   "id": "accredited-tourist",
   "metadata": {},
   "outputs": [
    {
     "name": "stderr",
     "output_type": "stream",
     "text": [
      "  0%|                                                                                         | 0/5641 [00:00<?, ?it/s]<ipython-input-9-e6487276476c>:19: RuntimeWarning: overflow encountered in exp\n",
      "  weight_start = 1 / (np.exp(power) + 1)\n",
      "<ipython-input-9-e6487276476c>:20: RuntimeWarning: overflow encountered in exp\n",
      "  weight_end = 1 / (np.exp(-power)+1)\n",
      "<ipython-input-9-e6487276476c>:31: RuntimeWarning: invalid value encountered in double_scalars\n",
      "  start_mean = (popularity_set * vector * weight_start).sum() / (popularity_set * weight_start).sum()\n",
      "<ipython-input-9-e6487276476c>:32: RuntimeWarning: invalid value encountered in double_scalars\n",
      "  end_mean   = (popularity_set * vector * weight_end  ).sum() / (popularity_set * weight_start).sum()\n",
      "<ipython-input-9-e6487276476c>:44: RuntimeWarning: invalid value encountered in double_scalars\n",
      "  key_x_mean = (key_x * popularity_set * weight_start).sum() / (popularity_set * weight_start).sum()\n",
      "<ipython-input-9-e6487276476c>:45: RuntimeWarning: invalid value encountered in double_scalars\n",
      "  key_y_mean = (key_y * popularity_set * weight_start).sum() / (popularity_set * weight_start).sum()\n",
      "  0%|▏                                                                               | 10/5641 [00:00<01:03, 88.41it/s]"
     ]
    },
    {
     "name": "stdout",
     "output_type": "stream",
     "text": [
      "artist_number =  [938 692 684 ...   1   1   1]\n",
      "index =  [ 26350 792507  79016 ... 562144 830375  26637]\n",
      "artist_num =  [ 1 16 11 ...  9  1  1]\n",
      "artist_position =  [    1    17    28 ... 98338 98339 98340]\n"
     ]
    },
    {
     "name": "stderr",
     "output_type": "stream",
     "text": [
      "100%|██████████████████████████████████████████████████████████████████████████████| 5641/5641 [00:58<00:00, 96.51it/s]"
     ]
    },
    {
     "name": "stdout",
     "output_type": "stream",
     "text": [
      "(14, 5641)\n"
     ]
    },
    {
     "name": "stderr",
     "output_type": "stream",
     "text": [
      "\n"
     ]
    },
    {
     "data": {
      "text/html": [
       "<div>\n",
       "<style scoped>\n",
       "    .dataframe tbody tr th:only-of-type {\n",
       "        vertical-align: middle;\n",
       "    }\n",
       "\n",
       "    .dataframe tbody tr th {\n",
       "        vertical-align: top;\n",
       "    }\n",
       "\n",
       "    .dataframe thead th {\n",
       "        text-align: right;\n",
       "    }\n",
       "</style>\n",
       "<table border=\"1\" class=\"dataframe\">\n",
       "  <thead>\n",
       "    <tr style=\"text-align: right;\">\n",
       "      <th></th>\n",
       "      <th>Unnamed: 0</th>\n",
       "      <th>artists_id</th>\n",
       "      <th>danceability</th>\n",
       "      <th>energy</th>\n",
       "      <th>valence</th>\n",
       "      <th>tempo</th>\n",
       "      <th>loudness</th>\n",
       "      <th>acousticness</th>\n",
       "      <th>instrumentalness</th>\n",
       "      <th>liveness</th>\n",
       "      <th>speechiness</th>\n",
       "      <th>explicit</th>\n",
       "      <th>duration_ms</th>\n",
       "      <th>mode</th>\n",
       "      <th>key</th>\n",
       "      <th>popularity</th>\n",
       "      <th>year</th>\n",
       "    </tr>\n",
       "  </thead>\n",
       "  <tbody>\n",
       "    <tr>\n",
       "      <th>98339</th>\n",
       "      <td>98339</td>\n",
       "      <td>690254</td>\n",
       "      <td>0.119974</td>\n",
       "      <td>1.246807</td>\n",
       "      <td>1.275322</td>\n",
       "      <td>0.89167</td>\n",
       "      <td>0.616453</td>\n",
       "      <td>-0.92804</td>\n",
       "      <td>-0.430965</td>\n",
       "      <td>0.37613</td>\n",
       "      <td>-0.322005</td>\n",
       "      <td>-0.19625</td>\n",
       "      <td>-0.931336</td>\n",
       "      <td>0.620525</td>\n",
       "      <td>7</td>\n",
       "      <td>43</td>\n",
       "      <td>2005</td>\n",
       "    </tr>\n",
       "  </tbody>\n",
       "</table>\n",
       "</div>"
      ],
      "text/plain": [
       "       Unnamed: 0  artists_id  danceability    energy   valence    tempo  \\\n",
       "98339       98339      690254      0.119974  1.246807  1.275322  0.89167   \n",
       "\n",
       "       loudness  acousticness  instrumentalness  liveness  speechiness  \\\n",
       "98339  0.616453      -0.92804         -0.430965   0.37613    -0.322005   \n",
       "\n",
       "       explicit  duration_ms      mode  key  popularity  year  \n",
       "98339  -0.19625    -0.931336  0.620525    7          43  2005  "
      ]
     },
     "execution_count": 16,
     "metadata": {},
     "output_type": "execute_result"
    }
   ],
   "source": [
    "range_list = get_range_list(extractedData)\n",
    "num = 0\n",
    "\n",
    "charactor_vector_list = []\n",
    "charactor_differences_list = []\n",
    "popularity_list = []\n",
    "\n",
    "for range_ in tqdm(range_list,):\n",
    "#     try:\n",
    "    subFrame = extractedData.loc[range_[0]:range_[1]-1]\n",
    "    subFrame = subFrame.sort_values(by=[\"artists_id\", 'year'], ascending=True)\n",
    "\n",
    "    character_vector, artist_id,popularity = get_character_vector(subFrame)\n",
    "    character_vector_start, character_vector_end, artist_id = get_character_difference(subFrame)\n",
    "\n",
    "    \n",
    "    charactor_vector_list.append(character_vector)\n",
    "    charactor_differences_list.append(character_vector_end - character_vector_start)\n",
    "    popularity_list.append(popularity)\n",
    "    \n",
    "charactor_vector_cong = np.array(charactor_vector_list).T\n",
    "charactor_differences_cong = np.array(charactor_differences_list).T\n",
    "popularity_cong = np.array(popularity_list)\n",
    "\n",
    "print(charactor_differences_cong.shape)\n",
    "subFrame"
   ]
  },
  {
   "cell_type": "code",
   "execution_count": 25,
   "id": "governing-representation",
   "metadata": {},
   "outputs": [
    {
     "data": {
      "image/png": "[encoded data removed]",
      "text/plain": [
       "<Figure size 432x288 with 1 Axes>"
      ]
     },
     "metadata": {
      "needs_background": "light"
     },
     "output_type": "display_data"
    },
    {
     "data": {
      "image/png": "[encoded data removed]",
      "text/plain": [
       "<Figure size 432x288 with 1 Axes>"
      ]
     },
     "metadata": {
      "needs_background": "light"
     },
     "output_type": "display_data"
    },
    {
     "data": {
      "image/png": "[encoded data removed]",
      "text/plain": [
       "<Figure size 432x288 with 1 Axes>"
      ]
     },
     "metadata": {
      "needs_background": "light"
     },
     "output_type": "display_data"
    },
    {
     "data": {
      "image/png": "[encoded data removed]",
      "text/plain": [
       "<Figure size 432x288 with 1 Axes>"
      ]
     },
     "metadata": {
      "needs_background": "light"
     },
     "output_type": "display_data"
    },
    {
     "data": {
      "image/png": "[encoded data removed]",
      "text/plain": [
       "<Figure size 432x288 with 1 Axes>"
      ]
     },
     "metadata": {
      "needs_background": "light"
     },
     "output_type": "display_data"
    },
    {
     "data": {
      "image/png": "[encoded data removed]",
      "text/plain": [
       "<Figure size 432x288 with 1 Axes>"
      ]
     },
     "metadata": {
      "needs_background": "light"
     },
     "output_type": "display_data"
    },
    {
     "data": {
      "image/png": "[encoded data removed]",
      "text/plain": [
       "<Figure size 432x288 with 1 Axes>"
      ]
     },
     "metadata": {
      "needs_background": "light"
     },
     "output_type": "display_data"
    },
    {
     "data": {
      "image/png": "[encoded data removed]",
      "text/plain": [
       "<Figure size 432x288 with 1 Axes>"
      ]
     },
     "metadata": {
      "needs_background": "light"
     },
     "output_type": "display_data"
    },
    {
     "data": {
      "image/png": "[encoded data removed]",
      "text/plain": [
       "<Figure size 432x288 with 1 Axes>"
      ]
     },
     "metadata": {
      "needs_background": "light"
     },
     "output_type": "display_data"
    },
    {
     "data": {
      "image/png": "[encoded data removed]",
      "text/plain": [
       "<Figure size 432x288 with 1 Axes>"
      ]
     },
     "metadata": {
      "needs_background": "light"
     },
     "output_type": "display_data"
    },
    {
     "data": {
      "image/png": "[encoded data removed]",
      "text/plain": [
       "<Figure size 432x288 with 1 Axes>"
      ]
     },
     "metadata": {
      "needs_background": "light"
     },
     "output_type": "display_data"
    },
    {
     "data": {
      "image/png": "[encoded data removed]",
      "text/plain": [
       "<Figure size 432x288 with 1 Axes>"
      ]
     },
     "metadata": {
      "needs_background": "light"
     },
     "output_type": "display_data"
    },
    {
     "data": {
      "image/png": "[encoded data removed]",
      "text/plain": [
       "<Figure size 432x288 with 1 Axes>"
      ]
     },
     "metadata": {
      "needs_background": "light"
     },
     "output_type": "display_data"
    },
    {
     "data": {
      "image/png": "[encoded data removed]",
      "text/plain": [
       "<Figure size 432x288 with 1 Axes>"
      ]
     },
     "metadata": {
      "needs_background": "light"
     },
     "output_type": "display_data"
    }
   ],
   "source": [
    "\n",
    "columns = [\"danceability\",\"energy\",\"valence\",\"tempo\", \"loudness\",\n",
    "           \"acousticness\",\"instrumentalness\",\"liveness\",\n",
    "           \"speechiness\",\"explicit\",\"duration_ms\", \"mode\",\"key_x\", \"key_y\"]\n",
    "for idx in range(14):\n",
    "    x_axis = charactor_vector_cong[idx]\n",
    "    plt.hist(x_axis, bins = 30, label = \"{}\".format(columns[idx]))\n",
    "    plt.xlabel(\"Influence\")\n",
    "    plt.ylabel(\"Percentages\")\n",
    "    plt.title(\"var = {:.3f}\".format(np.sqrt(x_axis.var())))\n",
    "    plt.legend(loc = \"upper left\")\n",
    "    plt.grid(axis=\"y\")\n",
    "    plt.show()\n"
   ]
  },
  {
   "cell_type": "code",
   "execution_count": 30,
   "id": "documented-print",
   "metadata": {},
   "outputs": [
    {
     "name": "stdout",
     "output_type": "stream",
     "text": [
      "[0]: danceability\n",
      "[1]: energy\n",
      "[2]: valence\n",
      "[3]: tempo\n",
      "[4]: loudness\n",
      "[5]: acousticness\n",
      "[6]: instrumentalness\n",
      "[7]: liveness\n",
      "[8]: speechiness\n",
      "[9]: explicit\n",
      "[10]: duration_ms\n",
      "[11]: mode\n",
      "[12]: key_x\n",
      "[13]: key_y\n"
     ]
    },
    {
     "data": {
      "image/png": "[encoded data removed]",
      "text/plain": [
       "<Figure size 432x288 with 1 Axes>"
      ]
     },
     "metadata": {
      "needs_background": "light"
     },
     "output_type": "display_data"
    }
   ],
   "source": [
    "list_var = []\n",
    "for index in range(14):\n",
    "    list_var.append(charactor_vector_cong[index].var())\n",
    "plt.bar(np.arange(14),np.array(list_var))\n",
    "for i in range(14):\n",
    "    print(f\"[{i}]: {columns[i]}\")"
   ]
  },
  {
   "cell_type": "markdown",
   "id": "quick-lying",
   "metadata": {},
   "source": [
    "# 哪些风格自身易受影响"
   ]
  },
  {
   "cell_type": "code",
   "execution_count": null,
   "id": "undefined-syndication",
   "metadata": {},
   "outputs": [],
   "source": [
    "range_list = get_range_list(extractedData)\n",
    "num = 0\n",
    "\n",
    "\n",
    "difference_ratio_list = []\n",
    "for range_ in tqdm(range_list,):\n",
    "#     try:\n",
    "    subFrame = extractedData.loc[range_[0]:range_[1]-1]\n",
    "    subFrame = subFrame.sort_values(by=[\"artists_id\", 'year'], ascending=True)\n",
    "\n",
    "    character_vector, artist_id,popularity = get_character_vector(subFrame)\n",
    "    character_vector_start, character_vector_end, artist_id = get_character_difference(subFrame)\n",
    "\n",
    "    \n",
    "    difference_ratio_list\n",
    "    \n",
    "charactor_vector_cong = np.array(charactor_vector_list).T\n",
    "charactor_differences_cong = np.array(charactor_differences_list).T\n",
    "popularity_cong = np.array(popularity_list)\n",
    "\n",
    "charactor_differences_cong.shape"
   ]
  },
  {
   "cell_type": "code",
   "execution_count": null,
   "id": "marine-arlington",
   "metadata": {},
   "outputs": [],
   "source": []
  }
 ],
 "metadata": {
  "kernelspec": {
   "display_name": "Python 3",
   "language": "python",
   "name": "python3"
  },
  "language_info": {
   "codemirror_mode": {
    "name": "ipython",
    "version": 3
   },
   "file_extension": ".py",
   "mimetype": "text/x-python",
   "name": "python",
   "nbconvert_exporter": "python",
   "pygments_lexer": "ipython3",
   "version": "3.9.1"
  }
 },
 "nbformat": 4,
 "nbformat_minor": 5
}
