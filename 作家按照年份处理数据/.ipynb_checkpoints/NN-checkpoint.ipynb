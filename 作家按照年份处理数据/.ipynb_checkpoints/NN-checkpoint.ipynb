{
 "cells": [
  {
   "cell_type": "code",
   "execution_count": 1,
   "id": "metric-check",
   "metadata": {},
   "outputs": [],
   "source": [
    "import torch\n",
    "import matplotlib.pyplot as plt\n",
    "import numpy as np\n",
    "import pandas as pd\n",
    "from collections import deque\n",
    "from sklearn.utils import shuffle\n",
    "from tqdm import tqdm\n",
    "import random\n",
    "import copy\n",
    "import os\n",
    "import sys"
   ]
  },
  {
   "cell_type": "code",
   "execution_count": 2,
   "id": "forced-access",
   "metadata": {},
   "outputs": [
    {
     "name": "stdout",
     "output_type": "stream",
     "text": [
      "本地路径 =  d:\\python\\lib\\site-packages\\ipykernel_launcher.py \n",
      "\n",
      "当前的代码绝对路径 =  C:\\Users\\程琪皓\\Desktop\\作家按照年份处理数据\n",
      "获取当前工作目录路径 =  C:\\Users\\程琪皓\\Desktop\\作家按照年份处理数据\n",
      "获取当前目录文件下的工作目录路径 =  C:\\Users\\程琪皓\\Desktop\\作家按照年份处理数据\\test.txt\n",
      "获取当前工作的父目录 =  C:\\Users\\程琪皓\\Desktop\n",
      "获取当前工作目录路径 =  C:\\Users\\程琪皓\\Desktop\\作家按照年份处理数据\n"
     ]
    }
   ],
   "source": [
    "print(\"本地路径 = \", sys.argv[0], \"\\n\")\n",
    "\n",
    "path1 = os.getcwd() # 获取当前工作目录路径\n",
    "path2 = os.path.abspath('.') # 获取当前工作目录路径\n",
    "path3 = os.path.abspath('test.txt') # 获取当前目录文件下的工作目录路径\n",
    "path4 = os.path.abspath('..') # 获取当前工作的父目录 ！注意是父目录路径\n",
    "path5 = os.path.abspath(os.curdir) # 获取当前工作目录路径\n",
    "\n",
    "print(\"当前的代码绝对路径 = \", path1)\n",
    "print(\"获取当前工作目录路径 = \", path2)\n",
    "print(\"获取当前目录文件下的工作目录路径 = \", path3)\n",
    "print(\"获取当前工作的父目录 = \", path4)\n",
    "print(\"获取当前工作目录路径 = \", path5)"
   ]
  },
  {
   "cell_type": "markdown",
   "id": "quick-cambridge",
   "metadata": {},
   "source": [
    "## 整理数据（训练集和验证集）"
   ]
  },
  {
   "cell_type": "code",
   "execution_count": 3,
   "id": "unexpected-aside",
   "metadata": {},
   "outputs": [],
   "source": [
    "class Buffer(object):\n",
    "    def __init__(self, capacity):\n",
    "        self.buffer = deque(maxlen=capacity)\n",
    "\n",
    "    def push(self, input_real,output_real):\n",
    "        input_real = np.expand_dims(input_real, 0)\n",
    "        output_real = np.expand_dims(output_real, 0)  # 这里应该是为了方便神经网络的训练\n",
    "        self.buffer.append(( input_real,output_real))\n",
    "\n",
    "    def sample(self, batch_size):\n",
    "        iput,oput = zip(*random.sample(self.buffer, batch_size))\n",
    "        concat_input = np.concatenate(iput)\n",
    "        concat_output = np.concatenate(oput)\n",
    "        return concat_input, concat_output\n",
    "\n",
    "    def __len__(self):\n",
    "        return len(self.buffer)\n",
    "\n",
    "    \n",
    "training_set = Buffer(capacity = 100000)\n",
    "validation_set = Buffer(capacity = 10000)"
   ]
  },
  {
   "cell_type": "code",
   "execution_count": 4,
   "id": "continuous-enlargement",
   "metadata": {},
   "outputs": [
    {
     "name": "stdout",
     "output_type": "stream",
     "text": [
      "13\n"
     ]
    }
   ],
   "source": [
    "full_music_data = {\"danceability\":[0.5263203874313606,0.16403205144827973],\n",
    "                    \"energy\":[0.5342478371079926,0.26447724025183267],\n",
    "                    \"valence\":[0.5332812944885094,0.2585376133654879],\n",
    "                    \"tempo\":[118.96853772625585,29.925255322835987],\n",
    "                    \"loudness\":[-10.755944010575554,5.067612837357291],\n",
    "                    \"acousticness\":[0.4190568774831198,0.35370999027336875],\n",
    "                    \"instrumentalness\":[0.1255745396816148,0.2724918312399652],\n",
    "                    \"liveness\":[0.20700085794183445,0.18610339608517842],\n",
    "                    \"speechiness\":[0.06380584502745576,0.07610388534934469],\n",
    "                    \"explicit\":[0.037085621313809235,0.18897163280656168],\n",
    "                    \"duration_ms\":[238590.92141549726,108823.17603973577],\n",
    "                    \"mode\":[0.7219951189749847,0.4480158112737567],\n",
    "                    \"popularity\":[35.69332926581249,17.262527298425432],}\n",
    "print(len(full_music_data))"
   ]
  },
  {
   "cell_type": "code",
   "execution_count": 5,
   "id": "aerial-jungle",
   "metadata": {},
   "outputs": [],
   "source": [
    "def read_genre(genre_id, directory = \"genre\"):\n",
    "    path = \"{}/{}.csv\".format(directory, genre_id)\n",
    "    genre_data = pd.read_csv(path)\n",
    "    return genre_data"
   ]
  },
  {
   "cell_type": "code",
   "execution_count": 6,
   "id": "thermal-cutting",
   "metadata": {},
   "outputs": [],
   "source": [
    "genre_data = read_genre(1)\n",
    "# print(genre_data)"
   ]
  },
  {
   "cell_type": "code",
   "execution_count": 7,
   "id": "judicial-atmosphere",
   "metadata": {},
   "outputs": [
    {
     "name": "stdout",
     "output_type": "stream",
     "text": [
      "(6942, 12)\n",
      "(824, 12)\n",
      "(47513, 12)\n",
      "(1058, 12)\n",
      "(6279, 12)\n",
      "(10340, 12)\n",
      "(1256, 12)\n",
      "(1397, 12)\n",
      "(710, 12)\n",
      "(1460, 12)\n",
      "(7608, 12)\n",
      "(4674, 12)\n",
      "(2352, 12)\n",
      "(1421, 12)\n",
      "(329, 12)\n",
      "(243, 12)\n",
      "(1332, 12)\n",
      "(56, 12)\n",
      "(271, 12)\n",
      "[-1.0200469112837844 -1.4982303835698272 -0.1055215685384335\n",
      " 1.2289439764839705 -1.9975985368889229 9.548781032665325\n",
      " 1.6000201805990402 2.5998043944830136 0.4513573842560058\n",
      " -0.29966728929500225 -0.1962496738956129 -0.4612153701264013]\n",
      "86323\n",
      "9742\n"
     ]
    }
   ],
   "source": [
    "\n",
    "\n",
    "genre_num = 19\n",
    "\n",
    "columns = [\"danceability\",\"energy\", \"valence\", \"tempo\", \"loudness\", \"acousticness\", \"instrumentalness\", \"liveness\", \"speechness\",\n",
    "           \"explicit\", \"duration_ms\", \"liveness\", \"mode\",\"popularity\"]\n",
    "\n",
    "diction = {3:\"danceability\",4:\"energy\", 5: \"valence\", 6: \"tempo\", 7: \"loudness\",9:\"mode\" ,10: \"acousticness\", 11:\"instrumentalness\", 12:\"liveness\", 13:\"speechiness\",\n",
    "           14:\"explicit\", 15:\"duration_ms\",16:\"popularity\"}\n",
    "    \n",
    "\n",
    "for genre_id in range(genre_num):\n",
    "    genre_data = read_genre(genre_id)\n",
    "    genre_data_shuffled = shuffle(genre_data)\n",
    "    data = genre_data_shuffled.values\n",
    "    sample = []\n",
    "    \n",
    "    output_real = genre_id\n",
    "    \n",
    "    for i in [3,4,5,6,7,9, 10,11,12,13,14,15]:\n",
    "        column = diction[i]\n",
    "        mean, var = full_music_data[column]\n",
    "        temp = (data[:,i] - mean) / var\n",
    "        sample.append(temp)\n",
    "    \n",
    "    data = np.vstack(sample).T\n",
    "    for i in range(len(data)):\n",
    "        input_real = data[i]\n",
    "        if random.uniform(0,1) > 0.1:\n",
    "            training_set.push(input_real, output_real)\n",
    "        else:\n",
    "            validation_set.push(input_real, output_real)\n",
    "    print(data.shape)\n",
    "    \n",
    "\n",
    "print(data[0])\n",
    "\n",
    "print(len(training_set))\n",
    "print(len(validation_set))\n"
   ]
  },
  {
   "cell_type": "code",
   "execution_count": 8,
   "id": "packed-disclaimer",
   "metadata": {},
   "outputs": [
    {
     "name": "stdout",
     "output_type": "stream",
     "text": [
      "[6942, 824, 47513, 1058, 6279, 10340, 1256, 1397, 710, 1460, 7608, 4674, 2352, 1421, 329, 243, 1332, 56, 271]\n",
      "[ 83  28 217  32  79 101  35  37  26  38  87  68  48  37  18  15  36   7\n",
      "  16]\n"
     ]
    },
    {
     "data": {
      "text/plain": [
       "19"
      ]
     },
     "execution_count": 8,
     "metadata": {},
     "output_type": "execute_result"
    }
   ],
   "source": [
    "genre_list = []\n",
    "for genre_id in range(genre_num):\n",
    "    genre_data = read_genre(genre_id)\n",
    "    genre_list.append(len(genre_data))\n",
    "print(genre_list)\n",
    "graph_num_list = np.sqrt(np.array(genre_list)).astype(int)\n",
    "print(graph_num_list)\n",
    "len(graph_num_list)"
   ]
  },
  {
   "cell_type": "code",
   "execution_count": 9,
   "id": "creative-manner",
   "metadata": {},
   "outputs": [
    {
     "name": "stderr",
     "output_type": "stream",
     "text": [
      "83it [00:00, 10372.04it/s]\n",
      "28it [00:00, 13999.35it/s]\n",
      "217it [00:00, 6998.68it/s]\n",
      "32it [00:00, 15997.35it/s]\n",
      "79it [00:00, 11286.92it/s]\n",
      "101it [00:00, 10100.01it/s]\n",
      "35it [00:00, 11663.80it/s]\n",
      "37it [00:00, 12331.29it/s]\n",
      "26it [00:00, 12993.20it/s]\n",
      "38it [00:00, 12651.50it/s]\n",
      "87it [00:00, 10874.17it/s]\n",
      "68it [00:00, 10283.49it/s]\n",
      "48it [00:00, 9598.41it/s]\n",
      "37it [00:00, 9247.36it/s]\n",
      "18it [00:00, 17988.44it/s]\n",
      "15it [00:00, 14972.53it/s]\n",
      "36it [00:00, 11998.01it/s]\n",
      "7it [00:00, ?it/s]\n",
      "16it [00:00, 16016.44it/s]"
     ]
    },
    {
     "name": "stdout",
     "output_type": "stream",
     "text": [
      "1008\n"
     ]
    },
    {
     "name": "stderr",
     "output_type": "stream",
     "text": [
      "\n"
     ]
    }
   ],
   "source": [
    "graph_set = []\n",
    "for genre_id in range(genre_num):\n",
    "    genre_data = read_genre(genre_id)\n",
    "    genre_data_shuffled = shuffle(genre_data)\n",
    "    num = 0\n",
    "    for i,r in tqdm(genre_data_shuffled.iterrows(),):\n",
    "        if num < graph_num_list[genre_id]:\n",
    "            graph_set.append(input_real)\n",
    "            num += 1\n",
    "        else:\n",
    "#             print(num)\n",
    "            break\n",
    "print(len(graph_set))"
   ]
  },
  {
   "cell_type": "code",
   "execution_count": 10,
   "id": "organic-playlist",
   "metadata": {},
   "outputs": [],
   "source": [
    "\n",
    "input_dim = 12\n",
    "latent_size = 2\n",
    "output_dim = 19"
   ]
  },
  {
   "cell_type": "code",
   "execution_count": 11,
   "id": "referenced-functionality",
   "metadata": {},
   "outputs": [],
   "source": [
    "\n",
    "Net_encoder = torch.nn.Sequential(\n",
    "    torch.nn.Linear(input_dim, input_dim, bias=False, ),\n",
    "    torch.nn.BatchNorm1d(input_dim),\n",
    "    torch.nn.LeakyReLU(),\n",
    "    \n",
    "    torch.nn.Linear(input_dim, input_dim, bias=False),\n",
    "    torch.nn.BatchNorm1d(input_dim),\n",
    "    torch.nn.LeakyReLU(),\n",
    "    \n",
    "    torch.nn.Linear(input_dim, latent_size, bias=False),\n",
    "    torch.nn.BatchNorm1d(latent_size),\n",
    "    torch.nn.LeakyReLU(),\n",
    ")\n",
    "\n",
    "classifier = torch.nn.Sequential(\n",
    "    torch.nn.Linear(latent_size, output_dim, bias=False, ),\n",
    "    torch.nn.BatchNorm1d(output_dim),\n",
    "    torch.nn.LeakyReLU(),\n",
    "    \n",
    "    torch.nn.Linear(output_dim, output_dim, bias=False, ),\n",
    "    torch.nn.BatchNorm1d(output_dim),\n",
    "    torch.nn.LeakyReLU(),\n",
    "    \n",
    "    torch.nn.Linear(output_dim, output_dim, bias=False, ),\n",
    "    torch.nn.BatchNorm1d(output_dim),\n",
    "    torch.nn.LeakyReLU(),\n",
    "    torch.nn.Linear(output_dim, output_dim, bias=False, ),\n",
    "    torch.nn.BatchNorm1d(output_dim),\n",
    "    torch.nn.LeakyReLU(),\n",
    ")\n",
    "\n"
   ]
  },
  {
   "cell_type": "code",
   "execution_count": 17,
   "id": "center-stuart",
   "metadata": {},
   "outputs": [],
   "source": [
    "def evaluation():\n",
    "    pass"
   ]
  },
  {
   "cell_type": "code",
   "execution_count": null,
   "id": "indie-external",
   "metadata": {},
   "outputs": [
    {
     "name": "stderr",
     "output_type": "stream",
     "text": [
      "0:   5%|███▋                                                                      | 1013/20000 [00:10<03:10, 99.52it/s]"
     ]
    },
    {
     "name": "stdout",
     "output_type": "stream",
     "text": [
      "accuracy =  0.08 loss =  tensor(2.9072, dtype=torch.float64, grad_fn=<NllLossBackward>)\n"
     ]
    },
    {
     "name": "stderr",
     "output_type": "stream",
     "text": [
      "0:  10%|███████▍                                                                  | 2016/20000 [00:20<03:19, 90.03it/s]"
     ]
    },
    {
     "name": "stdout",
     "output_type": "stream",
     "text": [
      "accuracy =  0.081 loss =  tensor(2.9116, dtype=torch.float64, grad_fn=<NllLossBackward>)\n"
     ]
    },
    {
     "name": "stderr",
     "output_type": "stream",
     "text": [
      "0:  15%|███████████▏                                                              | 3015/20000 [00:30<02:51, 98.97it/s]"
     ]
    },
    {
     "name": "stdout",
     "output_type": "stream",
     "text": [
      "accuracy =  0.095 loss =  tensor(2.9105, dtype=torch.float64, grad_fn=<NllLossBackward>)\n"
     ]
    },
    {
     "name": "stderr",
     "output_type": "stream",
     "text": [
      "0:  20%|██████████████▊                                                           | 4017/20000 [00:40<02:49, 94.11it/s]"
     ]
    },
    {
     "name": "stdout",
     "output_type": "stream",
     "text": [
      "accuracy =  0.105 loss =  tensor(2.9006, dtype=torch.float64, grad_fn=<NllLossBackward>)\n"
     ]
    },
    {
     "name": "stderr",
     "output_type": "stream",
     "text": [
      "0:  25%|██████████████████▌                                                       | 5014/20000 [00:50<02:30, 99.39it/s]"
     ]
    },
    {
     "name": "stdout",
     "output_type": "stream",
     "text": [
      "accuracy =  0.087 loss =  tensor(2.9130, dtype=torch.float64, grad_fn=<NllLossBackward>)\n"
     ]
    },
    {
     "name": "stderr",
     "output_type": "stream",
     "text": [
      "0:  30%|██████████████████████▏                                                   | 6013/20000 [01:00<02:44, 85.11it/s]"
     ]
    },
    {
     "name": "stdout",
     "output_type": "stream",
     "text": [
      "accuracy =  0.089 loss =  tensor(2.9069, dtype=torch.float64, grad_fn=<NllLossBackward>)\n"
     ]
    },
    {
     "name": "stderr",
     "output_type": "stream",
     "text": [
      "0:  35%|█████████████████████████▉                                                | 7012/20000 [01:11<02:40, 80.86it/s]"
     ]
    },
    {
     "name": "stdout",
     "output_type": "stream",
     "text": [
      "accuracy =  0.107 loss =  tensor(2.9110, dtype=torch.float64, grad_fn=<NllLossBackward>)\n"
     ]
    },
    {
     "name": "stderr",
     "output_type": "stream",
     "text": [
      "0:  40%|█████████████████████████████▋                                            | 8014/20000 [01:22<02:31, 78.86it/s]"
     ]
    },
    {
     "name": "stdout",
     "output_type": "stream",
     "text": [
      "accuracy =  0.101 loss =  tensor(2.9162, dtype=torch.float64, grad_fn=<NllLossBackward>)\n"
     ]
    },
    {
     "name": "stderr",
     "output_type": "stream",
     "text": [
      "0:  45%|█████████████████████████████████▎                                        | 9010/20000 [01:36<02:54, 63.15it/s]"
     ]
    },
    {
     "name": "stdout",
     "output_type": "stream",
     "text": [
      "accuracy =  0.085 loss =  tensor(2.9079, dtype=torch.float64, grad_fn=<NllLossBackward>)\n"
     ]
    },
    {
     "name": "stderr",
     "output_type": "stream",
     "text": [
      "0:  50%|████████████████████████████████████▌                                    | 10015/20000 [01:51<02:00, 82.68it/s]"
     ]
    },
    {
     "name": "stdout",
     "output_type": "stream",
     "text": [
      "accuracy =  0.092 loss =  tensor(2.9140, dtype=torch.float64, grad_fn=<NllLossBackward>)\n"
     ]
    },
    {
     "name": "stderr",
     "output_type": "stream",
     "text": [
      "0:  55%|████████████████████████████████████████▏                                | 11011/20000 [02:06<01:45, 85.20it/s]"
     ]
    },
    {
     "name": "stdout",
     "output_type": "stream",
     "text": [
      "accuracy =  0.092 loss =  tensor(2.9081, dtype=torch.float64, grad_fn=<NllLossBackward>)\n"
     ]
    },
    {
     "name": "stderr",
     "output_type": "stream",
     "text": [
      "0:  60%|███████████████████████████████████████████▊                             | 12014/20000 [02:17<01:39, 80.39it/s]"
     ]
    },
    {
     "name": "stdout",
     "output_type": "stream",
     "text": [
      "accuracy =  0.098 loss =  tensor(2.9013, dtype=torch.float64, grad_fn=<NllLossBackward>)\n"
     ]
    },
    {
     "name": "stderr",
     "output_type": "stream",
     "text": [
      "0:  65%|███████████████████████████████████████████████▍                         | 13010/20000 [02:29<01:23, 84.04it/s]"
     ]
    },
    {
     "name": "stdout",
     "output_type": "stream",
     "text": [
      "accuracy =  0.103 loss =  tensor(2.9085, dtype=torch.float64, grad_fn=<NllLossBackward>)\n"
     ]
    },
    {
     "name": "stderr",
     "output_type": "stream",
     "text": [
      "0:  70%|███████████████████████████████████████████████████▏                     | 14010/20000 [02:40<01:06, 89.42it/s]"
     ]
    },
    {
     "name": "stdout",
     "output_type": "stream",
     "text": [
      "accuracy =  0.098 loss =  tensor(2.9082, dtype=torch.float64, grad_fn=<NllLossBackward>)\n"
     ]
    },
    {
     "name": "stderr",
     "output_type": "stream",
     "text": [
      "0:  75%|██████████████████████████████████████████████████████▊                  | 15009/20000 [02:51<00:53, 93.65it/s]"
     ]
    },
    {
     "name": "stdout",
     "output_type": "stream",
     "text": [
      "accuracy =  0.102 loss =  tensor(2.9043, dtype=torch.float64, grad_fn=<NllLossBackward>)\n"
     ]
    },
    {
     "name": "stderr",
     "output_type": "stream",
     "text": [
      "0:  80%|██████████████████████████████████████████████████████████▍              | 16010/20000 [03:01<00:40, 97.76it/s]"
     ]
    },
    {
     "name": "stdout",
     "output_type": "stream",
     "text": [
      "accuracy =  0.103 loss =  tensor(2.9012, dtype=torch.float64, grad_fn=<NllLossBackward>)\n"
     ]
    },
    {
     "name": "stderr",
     "output_type": "stream",
     "text": [
      "0:  85%|██████████████████████████████████████████████████████████████           | 17012/20000 [03:12<00:31, 95.05it/s]"
     ]
    },
    {
     "name": "stdout",
     "output_type": "stream",
     "text": [
      "accuracy =  0.079 loss =  tensor(2.8989, dtype=torch.float64, grad_fn=<NllLossBackward>)\n"
     ]
    },
    {
     "name": "stderr",
     "output_type": "stream",
     "text": [
      "0:  90%|█████████████████████████████████████████████████████████████████▊       | 18017/20000 [03:22<00:20, 96.77it/s]"
     ]
    },
    {
     "name": "stdout",
     "output_type": "stream",
     "text": [
      "accuracy =  0.11 loss =  tensor(2.9065, dtype=torch.float64, grad_fn=<NllLossBackward>)\n"
     ]
    },
    {
     "name": "stderr",
     "output_type": "stream",
     "text": [
      "0:  95%|████████████████████████████████████████████████████████████████████▍   | 19017/20000 [03:32<00:09, 100.91it/s]"
     ]
    },
    {
     "name": "stdout",
     "output_type": "stream",
     "text": [
      "accuracy =  0.098 loss =  tensor(2.9148, dtype=torch.float64, grad_fn=<NllLossBackward>)\n"
     ]
    },
    {
     "name": "stderr",
     "output_type": "stream",
     "text": [
      "0: 100%|█████████████████████████████████████████████████████████████████████████| 20000/20000 [03:42<00:00, 89.83it/s]\n"
     ]
    },
    {
     "name": "stdout",
     "output_type": "stream",
     "text": [
      "accuracy =  0.12 loss =  tensor(2.9087, dtype=torch.float64, grad_fn=<NllLossBackward>)\n"
     ]
    },
    {
     "data": {
      "image/png": "[encoded data removed]",
      "text/plain": [
       "<Figure size 432x288 with 1 Axes>"
      ]
     },
     "metadata": {
      "needs_background": "light"
     },
     "output_type": "display_data"
    },
    {
     "name": "stderr",
     "output_type": "stream",
     "text": [
      "2.9086866954537594:   5%|██▉                                                      | 1014/20000 [00:10<03:14, 97.62it/s]"
     ]
    },
    {
     "name": "stdout",
     "output_type": "stream",
     "text": [
      "accuracy =  0.105 loss =  tensor(2.9000, dtype=torch.float64, grad_fn=<NllLossBackward>)\n"
     ]
    },
    {
     "name": "stderr",
     "output_type": "stream",
     "text": [
      "2.9086866954537594:  10%|█████▋                                                   | 2017/20000 [00:20<03:05, 96.71it/s]"
     ]
    },
    {
     "name": "stdout",
     "output_type": "stream",
     "text": [
      "accuracy =  0.102 loss =  tensor(2.9011, dtype=torch.float64, grad_fn=<NllLossBackward>)\n"
     ]
    },
    {
     "name": "stderr",
     "output_type": "stream",
     "text": [
      "2.9086866954537594:  15%|████████▌                                                | 3013/20000 [00:31<02:58, 95.28it/s]"
     ]
    },
    {
     "name": "stdout",
     "output_type": "stream",
     "text": [
      "accuracy =  0.1 loss =  tensor(2.9094, dtype=torch.float64, grad_fn=<NllLossBackward>)\n"
     ]
    },
    {
     "name": "stderr",
     "output_type": "stream",
     "text": [
      "2.9086866954537594:  20%|███████████▍                                             | 4014/20000 [00:41<02:44, 97.07it/s]"
     ]
    },
    {
     "name": "stdout",
     "output_type": "stream",
     "text": [
      "accuracy =  0.104 loss =  tensor(2.9048, dtype=torch.float64, grad_fn=<NllLossBackward>)\n"
     ]
    },
    {
     "name": "stderr",
     "output_type": "stream",
     "text": [
      "2.9086866954537594:  25%|██████████████▎                                          | 5018/20000 [00:51<02:36, 95.63it/s]"
     ]
    },
    {
     "name": "stdout",
     "output_type": "stream",
     "text": [
      "accuracy =  0.096 loss =  tensor(2.9040, dtype=torch.float64, grad_fn=<NllLossBackward>)\n"
     ]
    },
    {
     "name": "stderr",
     "output_type": "stream",
     "text": [
      "2.9086866954537594:  30%|█████████████████▏                                       | 6015/20000 [01:02<02:28, 94.42it/s]"
     ]
    },
    {
     "name": "stdout",
     "output_type": "stream",
     "text": [
      "accuracy =  0.098 loss =  tensor(2.9017, dtype=torch.float64, grad_fn=<NllLossBackward>)\n"
     ]
    },
    {
     "name": "stderr",
     "output_type": "stream",
     "text": [
      "2.9086866954537594:  35%|███████████████████▉                                     | 7017/20000 [01:12<02:11, 98.71it/s]"
     ]
    },
    {
     "name": "stdout",
     "output_type": "stream",
     "text": [
      "accuracy =  0.104 loss =  tensor(2.9071, dtype=torch.float64, grad_fn=<NllLossBackward>)\n"
     ]
    },
    {
     "name": "stderr",
     "output_type": "stream",
     "text": [
      "2.9086866954537594:  40%|██████████████████████▊                                  | 8018/20000 [01:22<02:01, 98.49it/s]"
     ]
    },
    {
     "name": "stdout",
     "output_type": "stream",
     "text": [
      "accuracy =  0.11 loss =  tensor(2.9094, dtype=torch.float64, grad_fn=<NllLossBackward>)\n"
     ]
    },
    {
     "name": "stderr",
     "output_type": "stream",
     "text": [
      "2.9086866954537594:  45%|█████████████████████████▋                               | 9019/20000 [01:32<01:55, 95.22it/s]"
     ]
    },
    {
     "name": "stdout",
     "output_type": "stream",
     "text": [
      "accuracy =  0.123 loss =  tensor(2.8972, dtype=torch.float64, grad_fn=<NllLossBackward>)\n"
     ]
    },
    {
     "name": "stderr",
     "output_type": "stream",
     "text": [
      "2.9086866954537594:  50%|████████████████████████████                            | 10013/20000 [01:42<01:40, 98.89it/s]"
     ]
    },
    {
     "name": "stdout",
     "output_type": "stream",
     "text": [
      "accuracy =  0.09 loss =  tensor(2.9005, dtype=torch.float64, grad_fn=<NllLossBackward>)\n"
     ]
    },
    {
     "name": "stderr",
     "output_type": "stream",
     "text": [
      "2.9086866954537594:  55%|██████████████████████████████▊                         | 11012/20000 [01:53<01:47, 83.88it/s]"
     ]
    },
    {
     "name": "stdout",
     "output_type": "stream",
     "text": [
      "accuracy =  0.078 loss =  tensor(2.8998, dtype=torch.float64, grad_fn=<NllLossBackward>)\n"
     ]
    },
    {
     "name": "stderr",
     "output_type": "stream",
     "text": [
      "2.9086866954537594:  60%|█████████████████████████████████▌                      | 12008/20000 [02:03<01:22, 97.14it/s]"
     ]
    },
    {
     "name": "stdout",
     "output_type": "stream",
     "text": [
      "accuracy =  0.1 loss =  tensor(2.9066, dtype=torch.float64, grad_fn=<NllLossBackward>)\n"
     ]
    },
    {
     "name": "stderr",
     "output_type": "stream",
     "text": [
      "2.9086866954537594:  65%|████████████████████████████████████▍                   | 13012/20000 [02:13<01:11, 97.72it/s]"
     ]
    },
    {
     "name": "stdout",
     "output_type": "stream",
     "text": [
      "accuracy =  0.101 loss =  tensor(2.9084, dtype=torch.float64, grad_fn=<NllLossBackward>)\n"
     ]
    },
    {
     "name": "stderr",
     "output_type": "stream",
     "text": [
      "2.9086866954537594:  70%|███████████████████████████████████████▏                | 14017/20000 [02:23<01:01, 97.81it/s]"
     ]
    },
    {
     "name": "stdout",
     "output_type": "stream",
     "text": [
      "accuracy =  0.107 loss =  tensor(2.9060, dtype=torch.float64, grad_fn=<NllLossBackward>)\n"
     ]
    },
    {
     "name": "stderr",
     "output_type": "stream",
     "text": [
      "2.9086866954537594:  75%|██████████████████████████████████████████              | 15020/20000 [02:34<00:52, 95.12it/s]"
     ]
    },
    {
     "name": "stdout",
     "output_type": "stream",
     "text": [
      "accuracy =  0.107 loss =  tensor(2.8959, dtype=torch.float64, grad_fn=<NllLossBackward>)\n"
     ]
    },
    {
     "name": "stderr",
     "output_type": "stream",
     "text": [
      "2.9086866954537594:  80%|████████████████████████████████████████████▊           | 16019/20000 [02:44<00:39, 99.74it/s]"
     ]
    },
    {
     "name": "stdout",
     "output_type": "stream",
     "text": [
      "accuracy =  0.116 loss =  tensor(2.9036, dtype=torch.float64, grad_fn=<NllLossBackward>)\n"
     ]
    },
    {
     "name": "stderr",
     "output_type": "stream",
     "text": [
      "2.9086866954537594:  85%|███████████████████████████████████████████████▋        | 17012/20000 [02:55<00:32, 91.76it/s]"
     ]
    },
    {
     "name": "stdout",
     "output_type": "stream",
     "text": [
      "accuracy =  0.092 loss =  tensor(2.9120, dtype=torch.float64, grad_fn=<NllLossBackward>)\n"
     ]
    },
    {
     "name": "stderr",
     "output_type": "stream",
     "text": [
      "2.9086866954537594:  90%|██████████████████████████████████████████████████▍     | 18013/20000 [03:05<00:21, 94.39it/s]"
     ]
    },
    {
     "name": "stdout",
     "output_type": "stream",
     "text": [
      "accuracy =  0.117 loss =  tensor(2.9061, dtype=torch.float64, grad_fn=<NllLossBackward>)\n"
     ]
    },
    {
     "name": "stderr",
     "output_type": "stream",
     "text": [
      "2.9086866954537594:  95%|█████████████████████████████████████████████████████▏  | 19015/20000 [03:15<00:10, 93.40it/s]"
     ]
    },
    {
     "name": "stdout",
     "output_type": "stream",
     "text": [
      "accuracy =  0.107 loss =  tensor(2.9021, dtype=torch.float64, grad_fn=<NllLossBackward>)\n"
     ]
    },
    {
     "name": "stderr",
     "output_type": "stream",
     "text": [
      "2.9086866954537594: 100%|████████████████████████████████████████████████████████| 20000/20000 [03:26<00:00, 96.99it/s]"
     ]
    },
    {
     "name": "stdout",
     "output_type": "stream",
     "text": [
      "accuracy =  0.106 loss =  tensor(2.9046, dtype=torch.float64, grad_fn=<NllLossBackward>)\n"
     ]
    },
    {
     "name": "stderr",
     "output_type": "stream",
     "text": [
      "\n"
     ]
    },
    {
     "data": {
      "image/png": "[encoded data removed]",
      "text/plain": [
       "<Figure size 432x288 with 1 Axes>"
      ]
     },
     "metadata": {
      "needs_background": "light"
     },
     "output_type": "display_data"
    },
    {
     "name": "stderr",
     "output_type": "stream",
     "text": [
      "2.9045812977658816:   5%|██▊                                                     | 1018/20000 [00:10<03:05, 102.40it/s]"
     ]
    },
    {
     "name": "stdout",
     "output_type": "stream",
     "text": [
      "accuracy =  0.109 loss =  tensor(2.9006, dtype=torch.float64, grad_fn=<NllLossBackward>)\n"
     ]
    },
    {
     "name": "stderr",
     "output_type": "stream",
     "text": [
      "2.9045812977658816:  10%|█████▋                                                   | 2014/20000 [00:20<03:04, 97.52it/s]"
     ]
    },
    {
     "name": "stdout",
     "output_type": "stream",
     "text": [
      "accuracy =  0.113 loss =  tensor(2.9016, dtype=torch.float64, grad_fn=<NllLossBackward>)\n"
     ]
    },
    {
     "name": "stderr",
     "output_type": "stream",
     "text": [
      "2.9045812977658816:  15%|████████▌                                                | 3017/20000 [00:30<02:59, 94.38it/s]"
     ]
    },
    {
     "name": "stdout",
     "output_type": "stream",
     "text": [
      "accuracy =  0.115 loss =  tensor(2.9050, dtype=torch.float64, grad_fn=<NllLossBackward>)\n"
     ]
    },
    {
     "name": "stderr",
     "output_type": "stream",
     "text": [
      "2.9045812977658816:  20%|███████████▍                                             | 4008/20000 [00:41<02:52, 92.48it/s]"
     ]
    },
    {
     "name": "stdout",
     "output_type": "stream",
     "text": [
      "accuracy =  0.11 loss =  tensor(2.9012, dtype=torch.float64, grad_fn=<NllLossBackward>)\n"
     ]
    },
    {
     "name": "stderr",
     "output_type": "stream",
     "text": [
      "2.9045812977658816:  25%|██████████████▎                                          | 5016/20000 [00:51<02:30, 99.32it/s]"
     ]
    },
    {
     "name": "stdout",
     "output_type": "stream",
     "text": [
      "accuracy =  0.111 loss =  tensor(2.8991, dtype=torch.float64, grad_fn=<NllLossBackward>)\n"
     ]
    },
    {
     "name": "stderr",
     "output_type": "stream",
     "text": [
      "2.9045812977658816:  30%|█████████████████                                        | 6006/20000 [01:01<02:22, 98.33it/s]"
     ]
    },
    {
     "name": "stdout",
     "output_type": "stream",
     "text": [
      "accuracy =  0.101 loss =  tensor(2.9055, dtype=torch.float64, grad_fn=<NllLossBackward>)\n"
     ]
    },
    {
     "name": "stderr",
     "output_type": "stream",
     "text": [
      "2.9045812977658816:  35%|███████████████████▉                                     | 7011/20000 [01:11<02:16, 95.47it/s]"
     ]
    },
    {
     "name": "stdout",
     "output_type": "stream",
     "text": [
      "accuracy =  0.109 loss =  tensor(2.9041, dtype=torch.float64, grad_fn=<NllLossBackward>)\n"
     ]
    },
    {
     "name": "stderr",
     "output_type": "stream",
     "text": [
      "2.9045812977658816:  40%|██████████████████████▊                                  | 8011/20000 [01:21<02:00, 99.08it/s]"
     ]
    },
    {
     "name": "stdout",
     "output_type": "stream",
     "text": [
      "accuracy =  0.107 loss =  tensor(2.9044, dtype=torch.float64, grad_fn=<NllLossBackward>)\n"
     ]
    },
    {
     "name": "stderr",
     "output_type": "stream",
     "text": [
      "2.9045812977658816:  45%|█████████████████████████▋                               | 9011/20000 [01:32<01:55, 95.41it/s]"
     ]
    },
    {
     "name": "stdout",
     "output_type": "stream",
     "text": [
      "accuracy =  0.102 loss =  tensor(2.8982, dtype=torch.float64, grad_fn=<NllLossBackward>)\n"
     ]
    },
    {
     "name": "stderr",
     "output_type": "stream",
     "text": [
      "2.9045812977658816:  50%|████████████████████████████                            | 10009/20000 [01:42<01:40, 99.00it/s]"
     ]
    },
    {
     "name": "stdout",
     "output_type": "stream",
     "text": [
      "accuracy =  0.109 loss =  tensor(2.9063, dtype=torch.float64, grad_fn=<NllLossBackward>)\n"
     ]
    },
    {
     "name": "stderr",
     "output_type": "stream",
     "text": [
      "2.9045812977658816:  55%|██████████████████████████████▊                         | 11023/20000 [01:52<01:30, 99.62it/s]"
     ]
    },
    {
     "name": "stdout",
     "output_type": "stream",
     "text": [
      "accuracy =  0.103 loss =  tensor(2.9045, dtype=torch.float64, grad_fn=<NllLossBackward>)\n"
     ]
    },
    {
     "name": "stderr",
     "output_type": "stream",
     "text": [
      "2.9045812977658816:  60%|█████████████████████████████████▋                      | 12010/20000 [02:02<01:25, 93.77it/s]"
     ]
    },
    {
     "name": "stdout",
     "output_type": "stream",
     "text": [
      "accuracy =  0.111 loss =  tensor(2.9005, dtype=torch.float64, grad_fn=<NllLossBackward>)\n"
     ]
    },
    {
     "name": "stderr",
     "output_type": "stream",
     "text": [
      "2.9045812977658816:  65%|███████████████████████████████████▊                   | 13016/20000 [02:13<01:09, 101.22it/s]"
     ]
    },
    {
     "name": "stdout",
     "output_type": "stream",
     "text": [
      "accuracy =  0.098 loss =  tensor(2.8990, dtype=torch.float64, grad_fn=<NllLossBackward>)\n"
     ]
    },
    {
     "name": "stderr",
     "output_type": "stream",
     "text": [
      "2.9045812977658816:  70%|███████████████████████████████████████▏                | 14015/20000 [02:23<01:03, 93.68it/s]"
     ]
    },
    {
     "name": "stdout",
     "output_type": "stream",
     "text": [
      "accuracy =  0.117 loss =  tensor(2.9040, dtype=torch.float64, grad_fn=<NllLossBackward>)\n"
     ]
    },
    {
     "name": "stderr",
     "output_type": "stream",
     "text": [
      "2.9045812977658816:  75%|██████████████████████████████████████████              | 15012/20000 [02:33<00:51, 96.48it/s]"
     ]
    },
    {
     "name": "stdout",
     "output_type": "stream",
     "text": [
      "accuracy =  0.1 loss =  tensor(2.9008, dtype=torch.float64, grad_fn=<NllLossBackward>)\n"
     ]
    },
    {
     "name": "stderr",
     "output_type": "stream",
     "text": [
      "2.9045812977658816:  80%|████████████████████████████████████████████▊           | 16010/20000 [02:43<00:40, 98.06it/s]"
     ]
    },
    {
     "name": "stdout",
     "output_type": "stream",
     "text": [
      "accuracy =  0.114 loss =  tensor(2.9027, dtype=torch.float64, grad_fn=<NllLossBackward>)\n"
     ]
    },
    {
     "name": "stderr",
     "output_type": "stream",
     "text": [
      "2.9045812977658816:  85%|███████████████████████████████████████████████▋        | 17013/20000 [02:53<00:31, 93.68it/s]"
     ]
    },
    {
     "name": "stdout",
     "output_type": "stream",
     "text": [
      "accuracy =  0.102 loss =  tensor(2.9061, dtype=torch.float64, grad_fn=<NllLossBackward>)\n"
     ]
    },
    {
     "name": "stderr",
     "output_type": "stream",
     "text": [
      "2.9045812977658816:  90%|██████████████████████████████████████████████████▍     | 18017/20000 [03:04<00:20, 99.13it/s]"
     ]
    },
    {
     "name": "stdout",
     "output_type": "stream",
     "text": [
      "accuracy =  0.102 loss =  tensor(2.9065, dtype=torch.float64, grad_fn=<NllLossBackward>)\n"
     ]
    },
    {
     "name": "stderr",
     "output_type": "stream",
     "text": [
      "2.9045812977658816:  95%|█████████████████████████████████████████████████████▏  | 19012/20000 [03:14<00:10, 95.97it/s]"
     ]
    },
    {
     "name": "stdout",
     "output_type": "stream",
     "text": [
      "accuracy =  0.094 loss =  tensor(2.9013, dtype=torch.float64, grad_fn=<NllLossBackward>)\n"
     ]
    },
    {
     "name": "stderr",
     "output_type": "stream",
     "text": [
      "2.9045812977658816: 100%|████████████████████████████████████████████████████████| 20000/20000 [03:25<00:00, 97.54it/s]"
     ]
    },
    {
     "name": "stdout",
     "output_type": "stream",
     "text": [
      "accuracy =  0.104 loss =  tensor(2.9030, dtype=torch.float64, grad_fn=<NllLossBackward>)\n"
     ]
    },
    {
     "name": "stderr",
     "output_type": "stream",
     "text": [
      "\n"
     ]
    },
    {
     "data": {
      "image/png": "[encoded data removed]",
      "text/plain": [
       "<Figure size 432x288 with 1 Axes>"
      ]
     },
     "metadata": {
      "needs_background": "light"
     },
     "output_type": "display_data"
    },
    {
     "name": "stderr",
     "output_type": "stream",
     "text": [
      "2.9029520558816038:   5%|██▉                                                      | 1020/20000 [00:10<03:14, 97.71it/s]"
     ]
    },
    {
     "name": "stdout",
     "output_type": "stream",
     "text": [
      "accuracy =  0.115 loss =  tensor(2.9039, dtype=torch.float64, grad_fn=<NllLossBackward>)\n"
     ]
    },
    {
     "name": "stderr",
     "output_type": "stream",
     "text": [
      "2.9029520558816038:  10%|█████▋                                                   | 2017/20000 [00:20<03:02, 98.46it/s]"
     ]
    },
    {
     "name": "stdout",
     "output_type": "stream",
     "text": [
      "accuracy =  0.109 loss =  tensor(2.9089, dtype=torch.float64, grad_fn=<NllLossBackward>)\n"
     ]
    },
    {
     "name": "stderr",
     "output_type": "stream",
     "text": [
      "2.9029520558816038:  15%|████████▌                                                | 3012/20000 [00:31<02:57, 95.51it/s]"
     ]
    },
    {
     "name": "stdout",
     "output_type": "stream",
     "text": [
      "accuracy =  0.099 loss =  tensor(2.9053, dtype=torch.float64, grad_fn=<NllLossBackward>)\n"
     ]
    },
    {
     "name": "stderr",
     "output_type": "stream",
     "text": [
      "2.9029520558816038:  20%|███████████▍                                             | 4008/20000 [00:41<03:01, 88.18it/s]"
     ]
    },
    {
     "name": "stdout",
     "output_type": "stream",
     "text": [
      "accuracy =  0.094 loss =  tensor(2.9068, dtype=torch.float64, grad_fn=<NllLossBackward>)\n"
     ]
    },
    {
     "name": "stderr",
     "output_type": "stream",
     "text": [
      "2.9029520558816038:  25%|██████████████▎                                          | 5017/20000 [00:52<02:36, 95.86it/s]"
     ]
    },
    {
     "name": "stdout",
     "output_type": "stream",
     "text": [
      "accuracy =  0.1 loss =  tensor(2.9041, dtype=torch.float64, grad_fn=<NllLossBackward>)\n"
     ]
    },
    {
     "name": "stderr",
     "output_type": "stream",
     "text": [
      "2.9029520558816038:  30%|█████████████████▏                                       | 6013/20000 [01:03<02:26, 95.35it/s]"
     ]
    },
    {
     "name": "stdout",
     "output_type": "stream",
     "text": [
      "accuracy =  0.112 loss =  tensor(2.9024, dtype=torch.float64, grad_fn=<NllLossBackward>)\n"
     ]
    },
    {
     "name": "stderr",
     "output_type": "stream",
     "text": [
      "2.9029520558816038:  35%|███████████████████▉                                     | 7017/20000 [01:13<02:15, 95.82it/s]"
     ]
    },
    {
     "name": "stdout",
     "output_type": "stream",
     "text": [
      "accuracy =  0.119 loss =  tensor(2.9046, dtype=torch.float64, grad_fn=<NllLossBackward>)\n"
     ]
    },
    {
     "name": "stderr",
     "output_type": "stream",
     "text": [
      "2.9029520558816038:  40%|██████████████████████▊                                  | 8015/20000 [01:23<02:01, 98.47it/s]"
     ]
    },
    {
     "name": "stdout",
     "output_type": "stream",
     "text": [
      "accuracy =  0.114 loss =  tensor(2.8991, dtype=torch.float64, grad_fn=<NllLossBackward>)\n"
     ]
    },
    {
     "name": "stderr",
     "output_type": "stream",
     "text": [
      "2.9029520558816038:  45%|█████████████████████████▏                              | 9017/20000 [01:34<01:48, 101.44it/s]"
     ]
    },
    {
     "name": "stdout",
     "output_type": "stream",
     "text": [
      "accuracy =  0.104 loss =  tensor(2.9018, dtype=torch.float64, grad_fn=<NllLossBackward>)\n"
     ]
    },
    {
     "name": "stderr",
     "output_type": "stream",
     "text": [
      "2.9029520558816038:  50%|███████████████████████████▌                           | 10017/20000 [01:44<01:38, 101.65it/s]"
     ]
    },
    {
     "name": "stdout",
     "output_type": "stream",
     "text": [
      "accuracy =  0.107 loss =  tensor(2.9035, dtype=torch.float64, grad_fn=<NllLossBackward>)\n"
     ]
    },
    {
     "name": "stderr",
     "output_type": "stream",
     "text": [
      "2.9029520558816038:  55%|██████████████████████████████▊                         | 11012/20000 [01:54<01:32, 96.93it/s]"
     ]
    },
    {
     "name": "stdout",
     "output_type": "stream",
     "text": [
      "accuracy =  0.095 loss =  tensor(2.8998, dtype=torch.float64, grad_fn=<NllLossBackward>)\n"
     ]
    },
    {
     "name": "stderr",
     "output_type": "stream",
     "text": [
      "2.9029520558816038:  60%|█████████████████████████████████▋                      | 12016/20000 [02:04<01:25, 93.20it/s]"
     ]
    },
    {
     "name": "stdout",
     "output_type": "stream",
     "text": [
      "accuracy =  0.092 loss =  tensor(2.9001, dtype=torch.float64, grad_fn=<NllLossBackward>)\n"
     ]
    },
    {
     "name": "stderr",
     "output_type": "stream",
     "text": [
      "2.9029520558816038:  65%|████████████████████████████████████▍                   | 13008/20000 [02:14<01:11, 98.48it/s]"
     ]
    },
    {
     "name": "stdout",
     "output_type": "stream",
     "text": [
      "accuracy =  0.085 loss =  tensor(2.8981, dtype=torch.float64, grad_fn=<NllLossBackward>)\n"
     ]
    },
    {
     "name": "stderr",
     "output_type": "stream",
     "text": [
      "2.9029520558816038:  70%|███████████████████████████████████████▎                | 14019/20000 [02:25<01:02, 96.34it/s]"
     ]
    },
    {
     "name": "stdout",
     "output_type": "stream",
     "text": [
      "accuracy =  0.111 loss =  tensor(2.9003, dtype=torch.float64, grad_fn=<NllLossBackward>)\n"
     ]
    },
    {
     "name": "stderr",
     "output_type": "stream",
     "text": [
      "2.9029520558816038:  75%|█████████████████████████████████████████▎             | 15015/20000 [02:35<00:49, 101.08it/s]"
     ]
    },
    {
     "name": "stdout",
     "output_type": "stream",
     "text": [
      "accuracy =  0.112 loss =  tensor(2.9029, dtype=torch.float64, grad_fn=<NllLossBackward>)\n"
     ]
    },
    {
     "name": "stderr",
     "output_type": "stream",
     "text": [
      "2.9029520558816038:  80%|████████████████████████████████████████████           | 16017/20000 [02:45<00:39, 100.50it/s]"
     ]
    },
    {
     "name": "stdout",
     "output_type": "stream",
     "text": [
      "accuracy =  0.103 loss =  tensor(2.9004, dtype=torch.float64, grad_fn=<NllLossBackward>)\n"
     ]
    },
    {
     "name": "stderr",
     "output_type": "stream",
     "text": [
      "2.9029520558816038:  85%|███████████████████████████████████████████████▋        | 17009/20000 [02:55<00:30, 96.59it/s]"
     ]
    },
    {
     "name": "stdout",
     "output_type": "stream",
     "text": [
      "accuracy =  0.103 loss =  tensor(2.9021, dtype=torch.float64, grad_fn=<NllLossBackward>)\n"
     ]
    },
    {
     "name": "stderr",
     "output_type": "stream",
     "text": [
      "2.9029520558816038:  90%|█████████████████████████████████████████████████▌     | 18013/20000 [03:05<00:19, 102.96it/s]"
     ]
    },
    {
     "name": "stdout",
     "output_type": "stream",
     "text": [
      "accuracy =  0.108 loss =  tensor(2.9095, dtype=torch.float64, grad_fn=<NllLossBackward>)\n"
     ]
    },
    {
     "name": "stderr",
     "output_type": "stream",
     "text": [
      "2.9029520558816038:  95%|█████████████████████████████████████████████████████▏  | 19017/20000 [03:15<00:10, 97.31it/s]"
     ]
    },
    {
     "name": "stdout",
     "output_type": "stream",
     "text": [
      "accuracy =  0.109 loss =  tensor(2.8977, dtype=torch.float64, grad_fn=<NllLossBackward>)\n"
     ]
    },
    {
     "name": "stderr",
     "output_type": "stream",
     "text": [
      "2.9029520558816038: 100%|████████████████████████████████████████████████████████| 20000/20000 [03:25<00:00, 97.29it/s]\n"
     ]
    },
    {
     "name": "stdout",
     "output_type": "stream",
     "text": [
      "accuracy =  0.106 loss =  tensor(2.8976, dtype=torch.float64, grad_fn=<NllLossBackward>)\n"
     ]
    },
    {
     "data": {
      "image/png": "[encoded data removed]",
      "text/plain": [
       "<Figure size 432x288 with 1 Axes>"
      ]
     },
     "metadata": {
      "needs_background": "light"
     },
     "output_type": "display_data"
    },
    {
     "name": "stderr",
     "output_type": "stream",
     "text": [
      "2.897574290066412:   5%|██▉                                                       | 1015/20000 [00:11<03:42, 85.45it/s]"
     ]
    },
    {
     "name": "stdout",
     "output_type": "stream",
     "text": [
      "accuracy =  0.12 loss =  tensor(2.9051, dtype=torch.float64, grad_fn=<NllLossBackward>)\n"
     ]
    },
    {
     "name": "stderr",
     "output_type": "stream",
     "text": [
      "2.897574290066412:  10%|█████▊                                                    | 2016/20000 [00:22<03:22, 88.89it/s]"
     ]
    },
    {
     "name": "stdout",
     "output_type": "stream",
     "text": [
      "accuracy =  0.101 loss =  tensor(2.9064, dtype=torch.float64, grad_fn=<NllLossBackward>)\n"
     ]
    },
    {
     "name": "stderr",
     "output_type": "stream",
     "text": [
      "2.897574290066412:  15%|████████▋                                                 | 3010/20000 [00:33<03:07, 90.56it/s]"
     ]
    },
    {
     "name": "stdout",
     "output_type": "stream",
     "text": [
      "accuracy =  0.112 loss =  tensor(2.9022, dtype=torch.float64, grad_fn=<NllLossBackward>)\n"
     ]
    },
    {
     "name": "stderr",
     "output_type": "stream",
     "text": [
      "2.897574290066412:  20%|███████████▋                                              | 4011/20000 [00:44<03:06, 85.78it/s]"
     ]
    },
    {
     "name": "stdout",
     "output_type": "stream",
     "text": [
      "accuracy =  0.102 loss =  tensor(2.8994, dtype=torch.float64, grad_fn=<NllLossBackward>)\n"
     ]
    },
    {
     "name": "stderr",
     "output_type": "stream",
     "text": [
      "2.897574290066412:  25%|██████████████▌                                           | 5010/20000 [00:55<02:49, 88.64it/s]"
     ]
    },
    {
     "name": "stdout",
     "output_type": "stream",
     "text": [
      "accuracy =  0.097 loss =  tensor(2.9031, dtype=torch.float64, grad_fn=<NllLossBackward>)\n"
     ]
    },
    {
     "name": "stderr",
     "output_type": "stream",
     "text": [
      "2.897574290066412:  30%|█████████████████▍                                        | 6012/20000 [01:06<02:38, 88.14it/s]"
     ]
    },
    {
     "name": "stdout",
     "output_type": "stream",
     "text": [
      "accuracy =  0.097 loss =  tensor(2.9022, dtype=torch.float64, grad_fn=<NllLossBackward>)\n"
     ]
    },
    {
     "name": "stderr",
     "output_type": "stream",
     "text": [
      "2.897574290066412:  35%|████████████████████▎                                     | 7013/20000 [01:18<02:35, 83.68it/s]"
     ]
    },
    {
     "name": "stdout",
     "output_type": "stream",
     "text": [
      "accuracy =  0.099 loss =  tensor(2.8974, dtype=torch.float64, grad_fn=<NllLossBackward>)\n"
     ]
    },
    {
     "name": "stderr",
     "output_type": "stream",
     "text": [
      "2.897574290066412:  38%|█████████████████████▊                                    | 7542/20000 [01:23<02:13, 93.06it/s]"
     ]
    }
   ],
   "source": [
    "Epochs = 5\n",
    "Steps = 20000\n",
    "Batch_size = 1000\n",
    "optimizer1 = torch.optim.Adam(Net_encoder.parameters())\n",
    "optimizer2 = torch.optim.Adam(Net_encoder.parameters())\n",
    "criterian = torch.nn.CrossEntropyLoss()\n",
    "\n",
    "# print(training_set.sample(Batch_size)[0][0])\n",
    "\n",
    "Net_encoder = Net_encoder.double()\n",
    "classifier = classifier.double()\n",
    "\n",
    "loss = 0\n",
    "Loss_track = []\n",
    "for epoch in range(Epochs):\n",
    "    \n",
    "    Loss_list = []\n",
    "    for step in tqdm(range(Steps),desc = f\"{loss}\"):\n",
    "        \n",
    "        input_real, target = training_set.sample(Batch_size)\n",
    "        \n",
    "        input_real = input_real.astype(float)\n",
    "        target = target.astype(float)\n",
    "        \n",
    "        input_real  = torch.tensor(input_real,  requires_grad = False, dtype = torch.float64)\n",
    "        target = torch.tensor(target, requires_grad = False, dtype = torch.float64)\n",
    "        \n",
    "        latent_space = Net_encoder(input_real)\n",
    "        output  = classifier(latent_space)\n",
    "        \n",
    "        output_pred = torch.nn.functional.softmax(output,dim = 1)\n",
    "        loss = criterian(output_pred, target.long())\n",
    "        Loss_list.append(loss.item())\n",
    "        \n",
    "        optimizer1.zero_grad()\n",
    "        optimizer2.zero_grad()\n",
    "        \n",
    "        loss.backward()\n",
    "        \n",
    "        optimizer1.step()\n",
    "        optimizer2.step()\n",
    "        \n",
    "        if (step+1) % 100 == 0:\n",
    "            Loss_track.append(np.mean(Loss_list))\n",
    "            Loss_list = []\n",
    "        if (step+1) % 1000 == 0:\n",
    "            validation_input, validation_outcome = validation_set.sample(Batch_size)\n",
    "            \n",
    "            latent_space = Net_encoder(input_real)\n",
    "            output  = torch.argmax(classifier(latent_space), -1)\n",
    "            validation_outcome = torch.tensor(validation_outcome)\n",
    "            accuracy = (output == validation_outcome).sum().item() / Batch_size\n",
    "            print(\"accuracy = \", accuracy, \"loss = \", loss)\n",
    "    plt.plot(Loss_track)\n",
    "    plt.show()\n",
    "    \n"
   ]
  },
  {
   "cell_type": "code",
   "execution_count": null,
   "id": "configured-anniversary",
   "metadata": {},
   "outputs": [],
   "source": [
    "torch.save(Net_encoder, 'check_point/Net_encoder.pkl')  # entire net\n",
    "torch.save(Net_encoder.state_dict(), 'check_point/Net_encoder_para.pkl')  # parameters\n",
    "torch.save(classifier, 'check_point/Net_decoder.pkl')  # entire net\n",
    "torch.save(classifier.state_dict(), 'check_point/Net_decoder_para.pkl')  # parameters"
   ]
  },
  {
   "cell_type": "code",
   "execution_count": null,
   "id": "amber-canada",
   "metadata": {},
   "outputs": [],
   "source": [
    "Group = []\n",
    "\n",
    "for i in range()"
   ]
  }
 ],
 "metadata": {
  "kernelspec": {
   "display_name": "Python 3",
   "language": "python",
   "name": "python3"
  },
  "language_info": {
   "codemirror_mode": {
    "name": "ipython",
    "version": 3
   },
   "file_extension": ".py",
   "mimetype": "text/x-python",
   "name": "python",
   "nbconvert_exporter": "python",
   "pygments_lexer": "ipython3",
   "version": "3.9.1"
  }
 },
 "nbformat": 4,
 "nbformat_minor": 5
}
