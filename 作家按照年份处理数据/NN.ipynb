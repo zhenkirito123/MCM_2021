{
 "cells": [
  {
   "cell_type": "code",
   "execution_count": 1,
   "id": "metric-check",
   "metadata": {},
   "outputs": [],
   "source": [
    "import torch\n",
    "import matplotlib.pyplot as plt\n",
    "import numpy as np\n",
    "import pandas as pd\n",
    "from collections import deque\n",
    "from sklearn.utils import shuffle\n",
    "from tqdm import tqdm\n",
    "import random\n",
    "import copy\n",
    "import os\n",
    "import sys"
   ]
  },
  {
   "cell_type": "code",
   "execution_count": 2,
   "id": "forced-access",
   "metadata": {},
   "outputs": [
    {
     "name": "stdout",
     "output_type": "stream",
     "text": [
      "本地路径 =  d:\\python\\lib\\site-packages\\ipykernel_launcher.py \n",
      "\n",
      "当前的代码绝对路径 =  C:\\Users\\程琪皓\\Desktop\\作家按照年份处理数据\n",
      "获取当前工作目录路径 =  C:\\Users\\程琪皓\\Desktop\\作家按照年份处理数据\n",
      "获取当前目录文件下的工作目录路径 =  C:\\Users\\程琪皓\\Desktop\\作家按照年份处理数据\\test.txt\n",
      "获取当前工作的父目录 =  C:\\Users\\程琪皓\\Desktop\n",
      "获取当前工作目录路径 =  C:\\Users\\程琪皓\\Desktop\\作家按照年份处理数据\n"
     ]
    }
   ],
   "source": [
    "print(\"本地路径 = \", sys.argv[0], \"\\n\")\n",
    "\n",
    "path1 = os.getcwd() # 获取当前工作目录路径\n",
    "path2 = os.path.abspath('.') # 获取当前工作目录路径\n",
    "path3 = os.path.abspath('test.txt') # 获取当前目录文件下的工作目录路径\n",
    "path4 = os.path.abspath('..') # 获取当前工作的父目录 ！注意是父目录路径\n",
    "path5 = os.path.abspath(os.curdir) # 获取当前工作目录路径\n",
    "\n",
    "print(\"当前的代码绝对路径 = \", path1)\n",
    "print(\"获取当前工作目录路径 = \", path2)\n",
    "print(\"获取当前目录文件下的工作目录路径 = \", path3)\n",
    "print(\"获取当前工作的父目录 = \", path4)\n",
    "print(\"获取当前工作目录路径 = \", path5)"
   ]
  },
  {
   "cell_type": "markdown",
   "id": "quick-cambridge",
   "metadata": {},
   "source": [
    "## 整理数据（训练集和验证集）"
   ]
  },
  {
   "cell_type": "code",
   "execution_count": 3,
   "id": "unexpected-aside",
   "metadata": {},
   "outputs": [],
   "source": [
    "class Buffer(object):\n",
    "    def __init__(self, capacity):\n",
    "        self.buffer = deque(maxlen=capacity)\n",
    "\n",
    "    def push(self, input_real,output_real):\n",
    "        input_real = np.expand_dims(input_real, 0)\n",
    "        output_real = np.expand_dims(output_real, 0)  # 这里应该是为了方便神经网络的训练\n",
    "        self.buffer.append(( input_real,output_real))\n",
    "\n",
    "    def sample(self, batch_size):\n",
    "        iput,oput = zip(*random.sample(self.buffer, batch_size))\n",
    "        concat_input = np.concatenate(iput)\n",
    "        concat_output = np.concatenate(oput)\n",
    "        return concat_input, concat_output\n",
    "\n",
    "    def __len__(self):\n",
    "        return len(self.buffer)\n",
    "\n",
    "    \n",
    "training_set = Buffer(capacity = 100000)\n",
    "validation_set = Buffer(capacity = 10000)"
   ]
  },
  {
   "cell_type": "code",
   "execution_count": 4,
   "id": "modular-method",
   "metadata": {},
   "outputs": [
    {
     "name": "stdout",
     "output_type": "stream",
     "text": [
      "13\n"
     ]
    }
   ],
   "source": [
    "full_music_data = {\"danceability\":[0.5263203874313606,0.16403205144827973],\n",
    "                    \"energy\":[0.5342478371079926,0.26447724025183267],\n",
    "                    \"valence\":[0.5332812944885094,0.2585376133654879],\n",
    "                    \"tempo\":[118.96853772625585,29.925255322835987],\n",
    "                    \"loudness\":[-10.755944010575554,5.067612837357291],\n",
    "                    \"acousticness\":[0.4190568774831198,0.35370999027336875],\n",
    "                    \"instrumentalness\":[0.1255745396816148,0.2724918312399652],\n",
    "                    \"liveness\":[0.20700085794183445,0.18610339608517842],\n",
    "                    \"speechiness\":[0.06380584502745576,0.07610388534934469],\n",
    "                    \"explicit\":[0.037085621313809235,0.18897163280656168],\n",
    "                    \"duration_ms\":[238590.92141549726,108823.17603973577],\n",
    "                    \"mode\":[0.7219951189749847,0.4480158112737567],\n",
    "                    \"popularity\":[35.69332926581249,17.262527298425432],}\n",
    "print(len(full_music_data))"
   ]
  },
  {
   "cell_type": "code",
   "execution_count": 5,
   "id": "successful-modern",
   "metadata": {},
   "outputs": [],
   "source": [
    "def read_genre(genre_id, directory = \"genre\"):\n",
    "    path = \"{}/{}.csv\".format(directory, genre_id)\n",
    "    genre_data = pd.read_csv(path)\n",
    "    return genre_data"
   ]
  },
  {
   "cell_type": "code",
   "execution_count": 6,
   "id": "eastern-tomorrow",
   "metadata": {},
   "outputs": [],
   "source": [
    "genre_data = read_genre(1)\n",
    "# print(genre_data)"
   ]
  },
  {
   "cell_type": "code",
   "execution_count": 7,
   "id": "judicial-atmosphere",
   "metadata": {},
   "outputs": [
    {
     "name": "stdout",
     "output_type": "stream",
     "text": [
      "(6942, 12)\n",
      "(824, 12)\n",
      "(47513, 12)\n",
      "(1058, 12)\n",
      "(6279, 12)\n",
      "(10340, 12)\n",
      "(1256, 12)\n",
      "(1397, 12)\n",
      "(710, 12)\n",
      "(1460, 12)\n",
      "(7608, 12)\n",
      "(4674, 12)\n",
      "(2352, 12)\n",
      "(1421, 12)\n",
      "(329, 12)\n",
      "(243, 12)\n",
      "(1332, 12)\n",
      "(56, 12)\n",
      "(271, 12)\n",
      "[0.7052256650287271 -1.0445051409525905 -0.17127602406505568\n",
      " 1.2663371411513438 -1.6384550785364274 11.780845113521965\n",
      " 1.3484016161043948 -0.4247266391618734 -0.47823338968569545\n",
      " -0.23396762130764304 -0.1962496738956129 -0.590719033894256]\n",
      "86648\n",
      "9417\n"
     ]
    }
   ],
   "source": [
    "\n",
    "\n",
    "genre_num = 19\n",
    "\n",
    "columns = [\"danceability\",\"energy\", \"valence\", \"tempo\", \"loudness\", \"acousticness\", \"instrumentalness\", \"liveness\", \"speechness\",\n",
    "           \"explicit\", \"duration_ms\", \"liveness\", \"mode\",\"popularity\"]\n",
    "\n",
    "diction = {3:\"danceability\",4:\"energy\", 5: \"valence\", 6: \"tempo\", 7: \"loudness\",9:\"mode\" ,10: \"acousticness\", 11:\"instrumentalness\", 12:\"liveness\", 13:\"speechiness\",\n",
    "           14:\"explicit\", 15:\"duration_ms\",16:\"popularity\"}\n",
    "    \n",
    "\n",
    "for genre_id in range(genre_num):\n",
    "    genre_data = read_genre(genre_id)\n",
    "    genre_data_shuffled = shuffle(genre_data)\n",
    "    data = genre_data_shuffled.values\n",
    "    sample = []\n",
    "    \n",
    "    output_real = genre_id\n",
    "    \n",
    "    for i in [3,4,5,6,7,9, 10,11,12,13,14,15]:\n",
    "        column = diction[i]\n",
    "        mean, var = full_music_data[column]\n",
    "        temp = (data[:,i] - mean) / var\n",
    "        sample.append(temp)\n",
    "    \n",
    "    data = np.vstack(sample).T\n",
    "    for i in range(len(data)):\n",
    "        input_real = data[i]\n",
    "        if random.uniform(0,1) > 0.1:\n",
    "            training_set.push(input_real, output_real)\n",
    "        else:\n",
    "            validation_set.push(input_real, output_real)\n",
    "    print(data.shape)\n",
    "    \n",
    "\n",
    "print(data[0])\n",
    "\n",
    "print(len(training_set))\n",
    "print(len(validation_set))\n"
   ]
  },
  {
   "cell_type": "code",
   "execution_count": 8,
   "id": "packed-disclaimer",
   "metadata": {},
   "outputs": [
    {
     "name": "stdout",
     "output_type": "stream",
     "text": [
      "[6942, 824, 47513, 1058, 6279, 10340, 1256, 1397, 710, 1460, 7608, 4674, 2352, 1421, 329, 243, 1332, 56, 271]\n",
      "[ 83  28 217  32  79 101  35  37  26  38  87  68  48  37  18  15  36   7\n",
      "  16]\n"
     ]
    },
    {
     "data": {
      "text/plain": [
       "19"
      ]
     },
     "execution_count": 8,
     "metadata": {},
     "output_type": "execute_result"
    }
   ],
   "source": [
    "genre_list = []\n",
    "for genre_id in range(genre_num):\n",
    "    genre_data = read_genre(genre_id)\n",
    "    genre_list.append(len(genre_data))\n",
    "print(genre_list)\n",
    "graph_num_list = np.sqrt(np.array(genre_list)).astype(int)\n",
    "print(graph_num_list)\n",
    "len(graph_num_list)"
   ]
  },
  {
   "cell_type": "code",
   "execution_count": 9,
   "id": "acceptable-endorsement",
   "metadata": {},
   "outputs": [
    {
     "name": "stderr",
     "output_type": "stream",
     "text": [
      "83it [00:00, 10356.00it/s]\n",
      "28it [00:00, 9386.98it/s]\n",
      "217it [00:00, 5429.60it/s]\n",
      "32it [00:00, 10659.81it/s]\n",
      "79it [00:00, 11284.61it/s]\n",
      "101it [00:00, 10961.10it/s]\n",
      "35it [00:00, 17486.68it/s]\n",
      "37it [00:00, 12324.43it/s]\n",
      "26it [00:00, 8666.61it/s]\n",
      "38it [00:00, 12659.54it/s]\n",
      "87it [00:00, 11128.19it/s]\n",
      "68it [00:00, 13611.37it/s]\n",
      "48it [00:00, 15960.57it/s]\n",
      "37it [00:00, 12336.19it/s]\n",
      "18it [00:00, 17967.03it/s]\n",
      "15it [00:00, 15022.58it/s]\n",
      "36it [00:00, 12000.87it/s]\n",
      "7it [00:00, 6997.17it/s]\n",
      "16it [00:00, 16004.98it/s]"
     ]
    },
    {
     "name": "stdout",
     "output_type": "stream",
     "text": [
      "1008\n"
     ]
    },
    {
     "name": "stderr",
     "output_type": "stream",
     "text": [
      "\n"
     ]
    }
   ],
   "source": [
    "graph_set = []\n",
    "for genre_id in range(genre_num):\n",
    "    genre_data = read_genre(genre_id)\n",
    "    genre_data_shuffled = shuffle(genre_data)\n",
    "    num = 0\n",
    "    for i,r in tqdm(genre_data_shuffled.iterrows(),):\n",
    "        if num < graph_num_list[genre_id]:\n",
    "            graph_set.append(input_real)\n",
    "            num += 1\n",
    "        else:\n",
    "#             print(num)\n",
    "            break\n",
    "print(len(graph_set))"
   ]
  },
  {
   "cell_type": "code",
   "execution_count": 10,
   "id": "organic-playlist",
   "metadata": {},
   "outputs": [],
   "source": [
    "\n",
    "input_dim = 12\n",
    "latent_size = 2\n",
    "output_dim = 19"
   ]
  },
  {
   "cell_type": "code",
   "execution_count": 29,
   "id": "referenced-functionality",
   "metadata": {},
   "outputs": [],
   "source": [
    "\n",
    "Net_encoder = torch.nn.Sequential(\n",
    "    torch.nn.Linear(input_dim, input_dim, bias=False, ),\n",
    "    torch.nn.BatchNorm1d(input_dim),\n",
    "    torch.nn.LeakyReLU(),\n",
    "    \n",
    "    torch.nn.Linear(input_dim, input_dim, bias=False),\n",
    "    torch.nn.BatchNorm1d(input_dim),\n",
    "    torch.nn.LeakyReLU(),\n",
    "    \n",
    "    torch.nn.Linear(input_dim, latent_size, bias=False),\n",
    "    torch.nn.BatchNorm1d(latent_size),\n",
    "    torch.nn.Sigmoid(),\n",
    ")\n",
    "\n",
    "classifier = torch.nn.Sequential(\n",
    "    torch.nn.Linear(latent_size, output_dim, bias=False, ),\n",
    "    torch.nn.BatchNorm1d(output_dim),\n",
    "    torch.nn.Sigmoid(),\n",
    "    \n",
    "    torch.nn.Linear(output_dim, output_dim, bias=False, ),\n",
    "    torch.nn.BatchNorm1d(output_dim),\n",
    "    torch.nn.LeakyReLU(),\n",
    "    \n",
    "    torch.nn.Linear(output_dim, output_dim, bias=False, ),\n",
    "    torch.nn.BatchNorm1d(output_dim),\n",
    "    torch.nn.LeakyReLU(),\n",
    "    torch.nn.Linear(output_dim, output_dim, bias=False, ),\n",
    "    torch.nn.BatchNorm1d(output_dim),\n",
    "    torch.nn.LeakyReLU(),\n",
    ")\n",
    "\n"
   ]
  },
  {
   "cell_type": "code",
   "execution_count": 30,
   "id": "assured-lingerie",
   "metadata": {},
   "outputs": [],
   "source": [
    "def evaluation():\n",
    "    pass\n",
    "Net_encoder = Net_encoder.double()\n",
    "classifier = classifier.double()"
   ]
  },
  {
   "cell_type": "code",
   "execution_count": 31,
   "id": "indie-external",
   "metadata": {},
   "outputs": [
    {
     "name": "stderr",
     "output_type": "stream",
     "text": [
      "0:   5%|███▋                                                                     | 1013/20000 [00:09<03:06, 101.65it/s]"
     ]
    },
    {
     "name": "stdout",
     "output_type": "stream",
     "text": [
      "accuracy =  0.108 loss =  tensor(2.9053, dtype=torch.float64, grad_fn=<NllLossBackward>)\n"
     ]
    },
    {
     "name": "stderr",
     "output_type": "stream",
     "text": [
      "0:  10%|███████▎                                                                 | 2018/20000 [00:19<02:51, 105.13it/s]"
     ]
    },
    {
     "name": "stdout",
     "output_type": "stream",
     "text": [
      "accuracy =  0.084 loss =  tensor(2.8946, dtype=torch.float64, grad_fn=<NllLossBackward>)\n"
     ]
    },
    {
     "name": "stderr",
     "output_type": "stream",
     "text": [
      "0:  15%|███████████                                                              | 3017/20000 [00:28<02:40, 105.71it/s]"
     ]
    },
    {
     "name": "stdout",
     "output_type": "stream",
     "text": [
      "accuracy =  0.087 loss =  tensor(2.8950, dtype=torch.float64, grad_fn=<NllLossBackward>)\n"
     ]
    },
    {
     "name": "stderr",
     "output_type": "stream",
     "text": [
      "0:  20%|██████████████▋                                                          | 4010/20000 [00:38<02:33, 104.46it/s]"
     ]
    },
    {
     "name": "stdout",
     "output_type": "stream",
     "text": [
      "accuracy =  0.096 loss =  tensor(2.8908, dtype=torch.float64, grad_fn=<NllLossBackward>)\n"
     ]
    },
    {
     "name": "stderr",
     "output_type": "stream",
     "text": [
      "0:  25%|██████████████████▎                                                      | 5008/20000 [00:47<02:21, 105.97it/s]"
     ]
    },
    {
     "name": "stdout",
     "output_type": "stream",
     "text": [
      "accuracy =  0.095 loss =  tensor(2.8872, dtype=torch.float64, grad_fn=<NllLossBackward>)\n"
     ]
    },
    {
     "name": "stderr",
     "output_type": "stream",
     "text": [
      "0:  30%|█████████████████████▉                                                   | 6009/20000 [00:57<02:18, 101.04it/s]"
     ]
    },
    {
     "name": "stdout",
     "output_type": "stream",
     "text": [
      "accuracy =  0.101 loss =  tensor(2.8872, dtype=torch.float64, grad_fn=<NllLossBackward>)\n"
     ]
    },
    {
     "name": "stderr",
     "output_type": "stream",
     "text": [
      "0:  35%|█████████████████████████▌                                               | 7013/20000 [01:07<02:07, 102.25it/s]"
     ]
    },
    {
     "name": "stdout",
     "output_type": "stream",
     "text": [
      "accuracy =  0.09 loss =  tensor(2.8828, dtype=torch.float64, grad_fn=<NllLossBackward>)\n"
     ]
    },
    {
     "name": "stderr",
     "output_type": "stream",
     "text": [
      "0:  40%|█████████████████████████████▎                                           | 8016/20000 [01:17<01:52, 106.47it/s]"
     ]
    },
    {
     "name": "stdout",
     "output_type": "stream",
     "text": [
      "accuracy =  0.119 loss =  tensor(2.8880, dtype=torch.float64, grad_fn=<NllLossBackward>)\n"
     ]
    },
    {
     "name": "stderr",
     "output_type": "stream",
     "text": [
      "0:  45%|████████████████████████████████▉                                        | 9019/20000 [01:26<01:42, 107.31it/s]"
     ]
    },
    {
     "name": "stdout",
     "output_type": "stream",
     "text": [
      "accuracy =  0.116 loss =  tensor(2.8953, dtype=torch.float64, grad_fn=<NllLossBackward>)\n"
     ]
    },
    {
     "name": "stderr",
     "output_type": "stream",
     "text": [
      "0:  50%|████████████████████████████████████                                    | 10014/20000 [01:35<01:35, 104.28it/s]"
     ]
    },
    {
     "name": "stdout",
     "output_type": "stream",
     "text": [
      "accuracy =  0.087 loss =  tensor(2.8851, dtype=torch.float64, grad_fn=<NllLossBackward>)\n"
     ]
    },
    {
     "name": "stderr",
     "output_type": "stream",
     "text": [
      "0:  55%|███████████████████████████████████████▋                                | 11014/20000 [01:45<01:24, 105.86it/s]"
     ]
    },
    {
     "name": "stdout",
     "output_type": "stream",
     "text": [
      "accuracy =  0.09 loss =  tensor(2.8934, dtype=torch.float64, grad_fn=<NllLossBackward>)\n"
     ]
    },
    {
     "name": "stderr",
     "output_type": "stream",
     "text": [
      "0:  60%|███████████████████████████████████████████▊                             | 12015/20000 [01:54<01:23, 96.08it/s]"
     ]
    },
    {
     "name": "stdout",
     "output_type": "stream",
     "text": [
      "accuracy =  0.12 loss =  tensor(2.8887, dtype=torch.float64, grad_fn=<NllLossBackward>)\n"
     ]
    },
    {
     "name": "stderr",
     "output_type": "stream",
     "text": [
      "0:  65%|██████████████████████████████████████████████▊                         | 13017/20000 [02:04<01:06, 104.97it/s]"
     ]
    },
    {
     "name": "stdout",
     "output_type": "stream",
     "text": [
      "accuracy =  0.111 loss =  tensor(2.8852, dtype=torch.float64, grad_fn=<NllLossBackward>)\n"
     ]
    },
    {
     "name": "stderr",
     "output_type": "stream",
     "text": [
      "0:  70%|██████████████████████████████████████████████████▍                     | 14010/20000 [02:13<00:58, 102.90it/s]"
     ]
    },
    {
     "name": "stdout",
     "output_type": "stream",
     "text": [
      "accuracy =  0.1 loss =  tensor(2.8867, dtype=torch.float64, grad_fn=<NllLossBackward>)\n"
     ]
    },
    {
     "name": "stderr",
     "output_type": "stream",
     "text": [
      "0:  75%|██████████████████████████████████████████████████████▊                  | 15010/20000 [02:23<00:50, 98.83it/s]"
     ]
    },
    {
     "name": "stdout",
     "output_type": "stream",
     "text": [
      "accuracy =  0.112 loss =  tensor(2.8917, dtype=torch.float64, grad_fn=<NllLossBackward>)\n"
     ]
    },
    {
     "name": "stderr",
     "output_type": "stream",
     "text": [
      "0:  80%|█████████████████████████████████████████████████████████▋              | 16014/20000 [02:33<00:39, 101.34it/s]"
     ]
    },
    {
     "name": "stdout",
     "output_type": "stream",
     "text": [
      "accuracy =  0.094 loss =  tensor(2.8871, dtype=torch.float64, grad_fn=<NllLossBackward>)\n"
     ]
    },
    {
     "name": "stderr",
     "output_type": "stream",
     "text": [
      "0:  85%|█████████████████████████████████████████████████████████████▎          | 17017/20000 [02:42<00:27, 107.04it/s]"
     ]
    },
    {
     "name": "stdout",
     "output_type": "stream",
     "text": [
      "accuracy =  0.079 loss =  tensor(2.8847, dtype=torch.float64, grad_fn=<NllLossBackward>)\n"
     ]
    },
    {
     "name": "stderr",
     "output_type": "stream",
     "text": [
      "0:  90%|████████████████████████████████████████████████████████████████▊       | 18019/20000 [02:52<00:18, 105.64it/s]"
     ]
    },
    {
     "name": "stdout",
     "output_type": "stream",
     "text": [
      "accuracy =  0.103 loss =  tensor(2.8847, dtype=torch.float64, grad_fn=<NllLossBackward>)\n"
     ]
    },
    {
     "name": "stderr",
     "output_type": "stream",
     "text": [
      "0:  95%|████████████████████████████████████████████████████████████████████▍   | 19013/20000 [03:01<00:09, 106.04it/s]"
     ]
    },
    {
     "name": "stdout",
     "output_type": "stream",
     "text": [
      "accuracy =  0.087 loss =  tensor(2.8898, dtype=torch.float64, grad_fn=<NllLossBackward>)\n"
     ]
    },
    {
     "name": "stderr",
     "output_type": "stream",
     "text": [
      "0: 100%|████████████████████████████████████████████████████████████████████████| 20000/20000 [03:10<00:00, 104.80it/s]\n"
     ]
    },
    {
     "name": "stdout",
     "output_type": "stream",
     "text": [
      "accuracy =  0.099 loss =  tensor(2.8861, dtype=torch.float64, grad_fn=<NllLossBackward>)\n"
     ]
    },
    {
     "data": {
      "image/png": "[encoded data removed]",
      "text/plain": [
       "<Figure size 432x288 with 1 Axes>"
      ]
     },
     "metadata": {
      "needs_background": "light"
     },
     "output_type": "display_data"
    },
    {
     "name": "stderr",
     "output_type": "stream",
     "text": [
      "2.886142312092592:   5%|██▉                                                      | 1012/20000 [00:09<03:00, 105.16it/s]"
     ]
    },
    {
     "name": "stdout",
     "output_type": "stream",
     "text": [
      "accuracy =  0.079 loss =  tensor(2.8872, dtype=torch.float64, grad_fn=<NllLossBackward>)\n"
     ]
    },
    {
     "name": "stderr",
     "output_type": "stream",
     "text": [
      "2.886142312092592:  10%|█████▊                                                   | 2022/20000 [00:19<02:49, 106.10it/s]"
     ]
    },
    {
     "name": "stdout",
     "output_type": "stream",
     "text": [
      "accuracy =  0.096 loss =  tensor(2.8844, dtype=torch.float64, grad_fn=<NllLossBackward>)\n"
     ]
    },
    {
     "name": "stderr",
     "output_type": "stream",
     "text": [
      "2.886142312092592:  15%|████████▌                                                | 3015/20000 [00:28<02:45, 102.90it/s]"
     ]
    },
    {
     "name": "stdout",
     "output_type": "stream",
     "text": [
      "accuracy =  0.094 loss =  tensor(2.8809, dtype=torch.float64, grad_fn=<NllLossBackward>)\n"
     ]
    },
    {
     "name": "stderr",
     "output_type": "stream",
     "text": [
      "2.886142312092592:  20%|███████████▍                                             | 4019/20000 [00:38<02:34, 103.18it/s]"
     ]
    },
    {
     "name": "stdout",
     "output_type": "stream",
     "text": [
      "accuracy =  0.083 loss =  tensor(2.8902, dtype=torch.float64, grad_fn=<NllLossBackward>)\n"
     ]
    },
    {
     "name": "stderr",
     "output_type": "stream",
     "text": [
      "2.886142312092592:  25%|██████████████▎                                          | 5017/20000 [00:48<02:23, 104.61it/s]"
     ]
    },
    {
     "name": "stdout",
     "output_type": "stream",
     "text": [
      "accuracy =  0.077 loss =  tensor(2.8864, dtype=torch.float64, grad_fn=<NllLossBackward>)\n"
     ]
    },
    {
     "name": "stderr",
     "output_type": "stream",
     "text": [
      "2.886142312092592:  30%|█████████████████▏                                       | 6015/20000 [00:57<02:10, 107.00it/s]"
     ]
    },
    {
     "name": "stdout",
     "output_type": "stream",
     "text": [
      "accuracy =  0.079 loss =  tensor(2.8898, dtype=torch.float64, grad_fn=<NllLossBackward>)\n"
     ]
    },
    {
     "name": "stderr",
     "output_type": "stream",
     "text": [
      "2.886142312092592:  35%|████████████████████▎                                     | 7012/20000 [01:07<02:10, 99.61it/s]"
     ]
    },
    {
     "name": "stdout",
     "output_type": "stream",
     "text": [
      "accuracy =  0.09 loss =  tensor(2.8840, dtype=torch.float64, grad_fn=<NllLossBackward>)\n"
     ]
    },
    {
     "name": "stderr",
     "output_type": "stream",
     "text": [
      "2.886142312092592:  40%|██████████████████████▊                                  | 8017/20000 [01:16<01:55, 103.41it/s]"
     ]
    },
    {
     "name": "stdout",
     "output_type": "stream",
     "text": [
      "accuracy =  0.085 loss =  tensor(2.8904, dtype=torch.float64, grad_fn=<NllLossBackward>)\n"
     ]
    },
    {
     "name": "stderr",
     "output_type": "stream",
     "text": [
      "2.886142312092592:  45%|█████████████████████████▋                               | 9021/20000 [01:26<01:43, 106.23it/s]"
     ]
    },
    {
     "name": "stdout",
     "output_type": "stream",
     "text": [
      "accuracy =  0.067 loss =  tensor(2.8847, dtype=torch.float64, grad_fn=<NllLossBackward>)\n"
     ]
    },
    {
     "name": "stderr",
     "output_type": "stream",
     "text": [
      "2.886142312092592:  50%|████████████████████████████                            | 10011/20000 [01:35<01:35, 104.59it/s]"
     ]
    },
    {
     "name": "stdout",
     "output_type": "stream",
     "text": [
      "accuracy =  0.083 loss =  tensor(2.8856, dtype=torch.float64, grad_fn=<NllLossBackward>)\n"
     ]
    },
    {
     "name": "stderr",
     "output_type": "stream",
     "text": [
      "2.886142312092592:  55%|██████████████████████████████▊                         | 11018/20000 [01:45<01:29, 100.37it/s]"
     ]
    },
    {
     "name": "stdout",
     "output_type": "stream",
     "text": [
      "accuracy =  0.081 loss =  tensor(2.8923, dtype=torch.float64, grad_fn=<NllLossBackward>)\n"
     ]
    },
    {
     "name": "stderr",
     "output_type": "stream",
     "text": [
      "2.886142312092592:  60%|█████████████████████████████████▋                      | 12010/20000 [01:54<01:15, 105.47it/s]"
     ]
    },
    {
     "name": "stdout",
     "output_type": "stream",
     "text": [
      "accuracy =  0.086 loss =  tensor(2.8919, dtype=torch.float64, grad_fn=<NllLossBackward>)\n"
     ]
    },
    {
     "name": "stderr",
     "output_type": "stream",
     "text": [
      "2.886142312092592:  65%|████████████████████████████████████▍                   | 13012/20000 [02:04<01:06, 105.81it/s]"
     ]
    },
    {
     "name": "stdout",
     "output_type": "stream",
     "text": [
      "accuracy =  0.087 loss =  tensor(2.8879, dtype=torch.float64, grad_fn=<NllLossBackward>)\n"
     ]
    },
    {
     "name": "stderr",
     "output_type": "stream",
     "text": [
      "2.886142312092592:  70%|███████████████████████████████████████▏                | 14017/20000 [02:13<00:57, 104.52it/s]"
     ]
    },
    {
     "name": "stdout",
     "output_type": "stream",
     "text": [
      "accuracy =  0.082 loss =  tensor(2.8892, dtype=torch.float64, grad_fn=<NllLossBackward>)\n"
     ]
    },
    {
     "name": "stderr",
     "output_type": "stream",
     "text": [
      "2.886142312092592:  75%|██████████████████████████████████████████              | 15016/20000 [02:23<00:48, 102.98it/s]"
     ]
    },
    {
     "name": "stdout",
     "output_type": "stream",
     "text": [
      "accuracy =  0.073 loss =  tensor(2.8939, dtype=torch.float64, grad_fn=<NllLossBackward>)\n"
     ]
    },
    {
     "name": "stderr",
     "output_type": "stream",
     "text": [
      "2.886142312092592:  80%|█████████████████████████████████████████████▌           | 16008/20000 [02:33<00:42, 94.09it/s]"
     ]
    },
    {
     "name": "stdout",
     "output_type": "stream",
     "text": [
      "accuracy =  0.09 loss =  tensor(2.8880, dtype=torch.float64, grad_fn=<NllLossBackward>)\n"
     ]
    },
    {
     "name": "stderr",
     "output_type": "stream",
     "text": [
      "2.886142312092592:  85%|███████████████████████████████████████████████▋        | 17019/20000 [02:43<00:28, 102.95it/s]"
     ]
    },
    {
     "name": "stdout",
     "output_type": "stream",
     "text": [
      "accuracy =  0.087 loss =  tensor(2.8827, dtype=torch.float64, grad_fn=<NllLossBackward>)\n"
     ]
    },
    {
     "name": "stderr",
     "output_type": "stream",
     "text": [
      "2.886142312092592:  90%|██████████████████████████████████████████████████▍     | 18018/20000 [02:52<00:19, 101.98it/s]"
     ]
    },
    {
     "name": "stdout",
     "output_type": "stream",
     "text": [
      "accuracy =  0.103 loss =  tensor(2.8805, dtype=torch.float64, grad_fn=<NllLossBackward>)\n"
     ]
    },
    {
     "name": "stderr",
     "output_type": "stream",
     "text": [
      "2.886142312092592:  95%|█████████████████████████████████████████████████████▏  | 19011/20000 [03:02<00:09, 101.83it/s]"
     ]
    },
    {
     "name": "stdout",
     "output_type": "stream",
     "text": [
      "accuracy =  0.085 loss =  tensor(2.8869, dtype=torch.float64, grad_fn=<NllLossBackward>)\n"
     ]
    },
    {
     "name": "stderr",
     "output_type": "stream",
     "text": [
      "2.886142312092592: 100%|████████████████████████████████████████████████████████| 20000/20000 [03:12<00:00, 104.03it/s]\n"
     ]
    },
    {
     "name": "stdout",
     "output_type": "stream",
     "text": [
      "accuracy =  0.094 loss =  tensor(2.8865, dtype=torch.float64, grad_fn=<NllLossBackward>)\n"
     ]
    },
    {
     "data": {
      "image/png": "[encoded data removed]",
      "text/plain": [
       "<Figure size 432x288 with 1 Axes>"
      ]
     },
     "metadata": {
      "needs_background": "light"
     },
     "output_type": "display_data"
    },
    {
     "name": "stderr",
     "output_type": "stream",
     "text": [
      "2.8864504301791247:   5%|██▊                                                     | 1019/20000 [00:09<02:56, 107.81it/s]"
     ]
    },
    {
     "name": "stdout",
     "output_type": "stream",
     "text": [
      "accuracy =  0.082 loss =  tensor(2.8765, dtype=torch.float64, grad_fn=<NllLossBackward>)\n"
     ]
    },
    {
     "name": "stderr",
     "output_type": "stream",
     "text": [
      "2.8864504301791247:  10%|█████▋                                                  | 2016/20000 [00:19<02:59, 100.37it/s]"
     ]
    },
    {
     "name": "stdout",
     "output_type": "stream",
     "text": [
      "accuracy =  0.066 loss =  tensor(2.8834, dtype=torch.float64, grad_fn=<NllLossBackward>)\n"
     ]
    },
    {
     "name": "stderr",
     "output_type": "stream",
     "text": [
      "2.8864504301791247:  15%|████████▍                                               | 3012/20000 [00:29<02:46, 102.05it/s]"
     ]
    },
    {
     "name": "stdout",
     "output_type": "stream",
     "text": [
      "accuracy =  0.088 loss =  tensor(2.8932, dtype=torch.float64, grad_fn=<NllLossBackward>)\n"
     ]
    },
    {
     "name": "stderr",
     "output_type": "stream",
     "text": [
      "2.8864504301791247:  20%|███████████▏                                            | 4016/20000 [00:38<02:28, 107.77it/s]"
     ]
    },
    {
     "name": "stdout",
     "output_type": "stream",
     "text": [
      "accuracy =  0.081 loss =  tensor(2.8835, dtype=torch.float64, grad_fn=<NllLossBackward>)\n"
     ]
    },
    {
     "name": "stderr",
     "output_type": "stream",
     "text": [
      "2.8864504301791247:  25%|██████████████                                          | 5013/20000 [00:48<02:20, 106.86it/s]"
     ]
    },
    {
     "name": "stdout",
     "output_type": "stream",
     "text": [
      "accuracy =  0.092 loss =  tensor(2.8813, dtype=torch.float64, grad_fn=<NllLossBackward>)\n"
     ]
    },
    {
     "name": "stderr",
     "output_type": "stream",
     "text": [
      "2.8864504301791247:  30%|████████████████▊                                       | 6014/20000 [00:57<02:14, 103.94it/s]"
     ]
    },
    {
     "name": "stdout",
     "output_type": "stream",
     "text": [
      "accuracy =  0.072 loss =  tensor(2.8854, dtype=torch.float64, grad_fn=<NllLossBackward>)\n"
     ]
    },
    {
     "name": "stderr",
     "output_type": "stream",
     "text": [
      "2.8864504301791247:  35%|███████████████████▋                                    | 7013/20000 [01:07<02:05, 103.10it/s]"
     ]
    },
    {
     "name": "stdout",
     "output_type": "stream",
     "text": [
      "accuracy =  0.078 loss =  tensor(2.8860, dtype=torch.float64, grad_fn=<NllLossBackward>)\n"
     ]
    },
    {
     "name": "stderr",
     "output_type": "stream",
     "text": [
      "2.8864504301791247:  40%|██████████████████████▍                                 | 8015/20000 [01:17<01:55, 103.58it/s]"
     ]
    },
    {
     "name": "stdout",
     "output_type": "stream",
     "text": [
      "accuracy =  0.096 loss =  tensor(2.8810, dtype=torch.float64, grad_fn=<NllLossBackward>)\n"
     ]
    },
    {
     "name": "stderr",
     "output_type": "stream",
     "text": [
      "2.8864504301791247:  45%|█████████████████████████▏                              | 9016/20000 [01:26<01:42, 106.81it/s]"
     ]
    },
    {
     "name": "stdout",
     "output_type": "stream",
     "text": [
      "accuracy =  0.078 loss =  tensor(2.8915, dtype=torch.float64, grad_fn=<NllLossBackward>)\n"
     ]
    },
    {
     "name": "stderr",
     "output_type": "stream",
     "text": [
      "2.8864504301791247:  50%|███████████████████████████▌                           | 10021/20000 [01:36<01:32, 107.55it/s]"
     ]
    },
    {
     "name": "stdout",
     "output_type": "stream",
     "text": [
      "accuracy =  0.08 loss =  tensor(2.8848, dtype=torch.float64, grad_fn=<NllLossBackward>)\n"
     ]
    },
    {
     "name": "stderr",
     "output_type": "stream",
     "text": [
      "2.8864504301791247:  55%|██████████████████████████████▎                        | 11011/20000 [01:45<01:26, 103.47it/s]"
     ]
    },
    {
     "name": "stdout",
     "output_type": "stream",
     "text": [
      "accuracy =  0.07 loss =  tensor(2.8806, dtype=torch.float64, grad_fn=<NllLossBackward>)\n"
     ]
    },
    {
     "name": "stderr",
     "output_type": "stream",
     "text": [
      "2.8864504301791247:  60%|█████████████████████████████████                      | 12016/20000 [01:55<01:16, 103.96it/s]"
     ]
    },
    {
     "name": "stdout",
     "output_type": "stream",
     "text": [
      "accuracy =  0.066 loss =  tensor(2.8868, dtype=torch.float64, grad_fn=<NllLossBackward>)\n"
     ]
    },
    {
     "name": "stderr",
     "output_type": "stream",
     "text": [
      "2.8864504301791247:  65%|███████████████████████████████████▊                   | 13020/20000 [02:04<01:09, 100.94it/s]"
     ]
    },
    {
     "name": "stdout",
     "output_type": "stream",
     "text": [
      "accuracy =  0.068 loss =  tensor(2.8836, dtype=torch.float64, grad_fn=<NllLossBackward>)\n"
     ]
    },
    {
     "name": "stderr",
     "output_type": "stream",
     "text": [
      "2.8864504301791247:  70%|██████████████████████████████████████▌                | 14013/20000 [02:14<00:58, 103.17it/s]"
     ]
    },
    {
     "name": "stdout",
     "output_type": "stream",
     "text": [
      "accuracy =  0.083 loss =  tensor(2.8814, dtype=torch.float64, grad_fn=<NllLossBackward>)\n"
     ]
    },
    {
     "name": "stderr",
     "output_type": "stream",
     "text": [
      "2.8864504301791247:  75%|█████████████████████████████████████████▎             | 15015/20000 [02:23<00:47, 105.54it/s]"
     ]
    },
    {
     "name": "stdout",
     "output_type": "stream",
     "text": [
      "accuracy =  0.103 loss =  tensor(2.8804, dtype=torch.float64, grad_fn=<NllLossBackward>)\n"
     ]
    },
    {
     "name": "stderr",
     "output_type": "stream",
     "text": [
      "2.8864504301791247:  80%|████████████████████████████████████████████           | 16011/20000 [02:33<00:38, 104.56it/s]"
     ]
    },
    {
     "name": "stdout",
     "output_type": "stream",
     "text": [
      "accuracy =  0.08 loss =  tensor(2.8844, dtype=torch.float64, grad_fn=<NllLossBackward>)\n"
     ]
    },
    {
     "name": "stderr",
     "output_type": "stream",
     "text": [
      "2.8864504301791247:  85%|██████████████████████████████████████████████▊        | 17017/20000 [02:42<00:28, 104.98it/s]"
     ]
    },
    {
     "name": "stdout",
     "output_type": "stream",
     "text": [
      "accuracy =  0.074 loss =  tensor(2.8882, dtype=torch.float64, grad_fn=<NllLossBackward>)\n"
     ]
    },
    {
     "name": "stderr",
     "output_type": "stream",
     "text": [
      "2.8864504301791247:  90%|██████████████████████████████████████████████████▍     | 18014/20000 [02:52<00:21, 94.46it/s]"
     ]
    },
    {
     "name": "stdout",
     "output_type": "stream",
     "text": [
      "accuracy =  0.082 loss =  tensor(2.8933, dtype=torch.float64, grad_fn=<NllLossBackward>)\n"
     ]
    },
    {
     "name": "stderr",
     "output_type": "stream",
     "text": [
      "2.8864504301791247:  95%|████████████████████████████████████████████████████▎  | 19017/20000 [03:01<00:09, 108.88it/s]"
     ]
    },
    {
     "name": "stdout",
     "output_type": "stream",
     "text": [
      "accuracy =  0.075 loss =  tensor(2.8870, dtype=torch.float64, grad_fn=<NllLossBackward>)\n"
     ]
    },
    {
     "name": "stderr",
     "output_type": "stream",
     "text": [
      "2.8864504301791247: 100%|███████████████████████████████████████████████████████| 20000/20000 [03:11<00:00, 104.56it/s]"
     ]
    },
    {
     "name": "stdout",
     "output_type": "stream",
     "text": [
      "accuracy =  0.086 loss =  tensor(2.8777, dtype=torch.float64, grad_fn=<NllLossBackward>)\n"
     ]
    },
    {
     "name": "stderr",
     "output_type": "stream",
     "text": [
      "\n"
     ]
    },
    {
     "data": {
      "image/png": "[encoded data removed]",
      "text/plain": [
       "<Figure size 432x288 with 1 Axes>"
      ]
     },
     "metadata": {
      "needs_background": "light"
     },
     "output_type": "display_data"
    },
    {
     "name": "stderr",
     "output_type": "stream",
     "text": [
      "2.877667797246588:   5%|██▉                                                      | 1020/20000 [00:09<02:56, 107.45it/s]"
     ]
    },
    {
     "name": "stdout",
     "output_type": "stream",
     "text": [
      "accuracy =  0.08 loss =  tensor(2.8842, dtype=torch.float64, grad_fn=<NllLossBackward>)\n"
     ]
    },
    {
     "name": "stderr",
     "output_type": "stream",
     "text": [
      "2.877667797246588:  10%|█████▋                                                   | 2014/20000 [00:19<02:46, 107.97it/s]"
     ]
    },
    {
     "name": "stdout",
     "output_type": "stream",
     "text": [
      "accuracy =  0.088 loss =  tensor(2.8825, dtype=torch.float64, grad_fn=<NllLossBackward>)\n"
     ]
    },
    {
     "name": "stderr",
     "output_type": "stream",
     "text": [
      "2.877667797246588:  15%|████████▋                                                 | 3016/20000 [00:28<02:54, 97.41it/s]"
     ]
    },
    {
     "name": "stdout",
     "output_type": "stream",
     "text": [
      "accuracy =  0.078 loss =  tensor(2.8884, dtype=torch.float64, grad_fn=<NllLossBackward>)\n"
     ]
    },
    {
     "name": "stderr",
     "output_type": "stream",
     "text": [
      "2.877667797246588:  20%|███████████▍                                             | 4013/20000 [00:38<02:31, 105.49it/s]"
     ]
    },
    {
     "name": "stdout",
     "output_type": "stream",
     "text": [
      "accuracy =  0.07 loss =  tensor(2.8862, dtype=torch.float64, grad_fn=<NllLossBackward>)\n"
     ]
    },
    {
     "name": "stderr",
     "output_type": "stream",
     "text": [
      "2.877667797246588:  25%|██████████████▎                                          | 5016/20000 [00:48<02:18, 107.88it/s]"
     ]
    },
    {
     "name": "stdout",
     "output_type": "stream",
     "text": [
      "accuracy =  0.072 loss =  tensor(2.8851, dtype=torch.float64, grad_fn=<NllLossBackward>)\n"
     ]
    },
    {
     "name": "stderr",
     "output_type": "stream",
     "text": [
      "2.877667797246588:  30%|█████████████████▏                                       | 6014/20000 [00:57<02:13, 104.81it/s]"
     ]
    },
    {
     "name": "stdout",
     "output_type": "stream",
     "text": [
      "accuracy =  0.08 loss =  tensor(2.8855, dtype=torch.float64, grad_fn=<NllLossBackward>)\n"
     ]
    },
    {
     "name": "stderr",
     "output_type": "stream",
     "text": [
      "2.877667797246588:  35%|███████████████████▉                                     | 7017/20000 [01:06<02:02, 106.24it/s]"
     ]
    },
    {
     "name": "stdout",
     "output_type": "stream",
     "text": [
      "accuracy =  0.083 loss =  tensor(2.8829, dtype=torch.float64, grad_fn=<NllLossBackward>)\n"
     ]
    },
    {
     "name": "stderr",
     "output_type": "stream",
     "text": [
      "2.877667797246588:  40%|███████████████████████▏                                  | 8014/20000 [01:16<02:01, 98.56it/s]"
     ]
    },
    {
     "name": "stdout",
     "output_type": "stream",
     "text": [
      "accuracy =  0.102 loss =  tensor(2.8852, dtype=torch.float64, grad_fn=<NllLossBackward>)\n"
     ]
    },
    {
     "name": "stderr",
     "output_type": "stream",
     "text": [
      "2.877667797246588:  45%|█████████████████████████▋                               | 9014/20000 [01:25<01:48, 100.91it/s]"
     ]
    },
    {
     "name": "stdout",
     "output_type": "stream",
     "text": [
      "accuracy =  0.089 loss =  tensor(2.8833, dtype=torch.float64, grad_fn=<NllLossBackward>)\n"
     ]
    },
    {
     "name": "stderr",
     "output_type": "stream",
     "text": [
      "2.877667797246588:  50%|████████████████████████████                            | 10013/20000 [01:35<01:35, 104.63it/s]"
     ]
    },
    {
     "name": "stdout",
     "output_type": "stream",
     "text": [
      "accuracy =  0.078 loss =  tensor(2.8841, dtype=torch.float64, grad_fn=<NllLossBackward>)\n"
     ]
    },
    {
     "name": "stderr",
     "output_type": "stream",
     "text": [
      "2.877667797246588:  55%|██████████████████████████████▊                         | 11019/20000 [01:44<01:24, 106.67it/s]"
     ]
    },
    {
     "name": "stdout",
     "output_type": "stream",
     "text": [
      "accuracy =  0.077 loss =  tensor(2.8776, dtype=torch.float64, grad_fn=<NllLossBackward>)\n"
     ]
    },
    {
     "name": "stderr",
     "output_type": "stream",
     "text": [
      "2.877667797246588:  60%|█████████████████████████████████▋                      | 12019/20000 [01:53<01:14, 106.60it/s]"
     ]
    },
    {
     "name": "stdout",
     "output_type": "stream",
     "text": [
      "accuracy =  0.081 loss =  tensor(2.8797, dtype=torch.float64, grad_fn=<NllLossBackward>)\n"
     ]
    },
    {
     "name": "stderr",
     "output_type": "stream",
     "text": [
      "2.877667797246588:  65%|████████████████████████████████████▍                   | 13014/20000 [02:03<01:06, 105.68it/s]"
     ]
    },
    {
     "name": "stdout",
     "output_type": "stream",
     "text": [
      "accuracy =  0.073 loss =  tensor(2.8825, dtype=torch.float64, grad_fn=<NllLossBackward>)\n"
     ]
    },
    {
     "name": "stderr",
     "output_type": "stream",
     "text": [
      "2.877667797246588:  70%|███████████████████████████████████████▎                | 14018/20000 [02:12<00:56, 105.87it/s]"
     ]
    },
    {
     "name": "stdout",
     "output_type": "stream",
     "text": [
      "accuracy =  0.095 loss =  tensor(2.8874, dtype=torch.float64, grad_fn=<NllLossBackward>)\n"
     ]
    },
    {
     "name": "stderr",
     "output_type": "stream",
     "text": [
      "2.877667797246588:  75%|██████████████████████████████████████████              | 15016/20000 [02:22<00:46, 107.40it/s]"
     ]
    },
    {
     "name": "stdout",
     "output_type": "stream",
     "text": [
      "accuracy =  0.083 loss =  tensor(2.8933, dtype=torch.float64, grad_fn=<NllLossBackward>)\n"
     ]
    },
    {
     "name": "stderr",
     "output_type": "stream",
     "text": [
      "2.877667797246588:  80%|████████████████████████████████████████████▊           | 16021/20000 [02:31<00:37, 105.81it/s]"
     ]
    },
    {
     "name": "stdout",
     "output_type": "stream",
     "text": [
      "accuracy =  0.071 loss =  tensor(2.8836, dtype=torch.float64, grad_fn=<NllLossBackward>)\n"
     ]
    },
    {
     "name": "stderr",
     "output_type": "stream",
     "text": [
      "2.877667797246588:  85%|███████████████████████████████████████████████▋        | 17020/20000 [02:40<00:27, 107.61it/s]"
     ]
    },
    {
     "name": "stdout",
     "output_type": "stream",
     "text": [
      "accuracy =  0.087 loss =  tensor(2.8872, dtype=torch.float64, grad_fn=<NllLossBackward>)\n"
     ]
    },
    {
     "name": "stderr",
     "output_type": "stream",
     "text": [
      "2.877667797246588:  90%|██████████████████████████████████████████████████▍     | 18012/20000 [02:50<00:18, 106.43it/s]"
     ]
    },
    {
     "name": "stdout",
     "output_type": "stream",
     "text": [
      "accuracy =  0.088 loss =  tensor(2.8863, dtype=torch.float64, grad_fn=<NllLossBackward>)\n"
     ]
    },
    {
     "name": "stderr",
     "output_type": "stream",
     "text": [
      "2.877667797246588:  95%|█████████████████████████████████████████████████████▏  | 19011/20000 [02:59<00:09, 103.74it/s]"
     ]
    },
    {
     "name": "stdout",
     "output_type": "stream",
     "text": [
      "accuracy =  0.078 loss =  tensor(2.8850, dtype=torch.float64, grad_fn=<NllLossBackward>)\n"
     ]
    },
    {
     "name": "stderr",
     "output_type": "stream",
     "text": [
      "2.877667797246588: 100%|████████████████████████████████████████████████████████| 20000/20000 [03:09<00:00, 105.81it/s]\n"
     ]
    },
    {
     "name": "stdout",
     "output_type": "stream",
     "text": [
      "accuracy =  0.079 loss =  tensor(2.8820, dtype=torch.float64, grad_fn=<NllLossBackward>)\n"
     ]
    },
    {
     "data": {
      "image/png": "[encoded data removed]",
      "text/plain": [
       "<Figure size 432x288 with 1 Axes>"
      ]
     },
     "metadata": {
      "needs_background": "light"
     },
     "output_type": "display_data"
    },
    {
     "name": "stderr",
     "output_type": "stream",
     "text": [
      "2.8820057198351376:   5%|██▊                                                     | 1013/20000 [00:09<03:07, 101.26it/s]"
     ]
    },
    {
     "name": "stdout",
     "output_type": "stream",
     "text": [
      "accuracy =  0.086 loss =  tensor(2.8867, dtype=torch.float64, grad_fn=<NllLossBackward>)\n"
     ]
    },
    {
     "name": "stderr",
     "output_type": "stream",
     "text": [
      "2.8820057198351376:  10%|█████▋                                                  | 2013/20000 [00:19<02:49, 105.97it/s]"
     ]
    },
    {
     "name": "stdout",
     "output_type": "stream",
     "text": [
      "accuracy =  0.085 loss =  tensor(2.8822, dtype=torch.float64, grad_fn=<NllLossBackward>)\n"
     ]
    },
    {
     "name": "stderr",
     "output_type": "stream",
     "text": [
      "2.8820057198351376:  15%|████████▍                                               | 3007/20000 [00:28<02:46, 102.16it/s]"
     ]
    },
    {
     "name": "stdout",
     "output_type": "stream",
     "text": [
      "accuracy =  0.084 loss =  tensor(2.8876, dtype=torch.float64, grad_fn=<NllLossBackward>)\n"
     ]
    },
    {
     "name": "stderr",
     "output_type": "stream",
     "text": [
      "2.8820057198351376:  20%|███████████▏                                            | 4016/20000 [00:38<02:34, 103.58it/s]"
     ]
    },
    {
     "name": "stdout",
     "output_type": "stream",
     "text": [
      "accuracy =  0.078 loss =  tensor(2.8876, dtype=torch.float64, grad_fn=<NllLossBackward>)\n"
     ]
    },
    {
     "name": "stderr",
     "output_type": "stream",
     "text": [
      "2.8820057198351376:  25%|██████████████                                          | 5018/20000 [00:48<02:28, 100.71it/s]"
     ]
    },
    {
     "name": "stdout",
     "output_type": "stream",
     "text": [
      "accuracy =  0.076 loss =  tensor(2.8809, dtype=torch.float64, grad_fn=<NllLossBackward>)\n"
     ]
    },
    {
     "name": "stderr",
     "output_type": "stream",
     "text": [
      "2.8820057198351376:  30%|████████████████▊                                       | 6015/20000 [00:58<02:17, 101.56it/s]"
     ]
    },
    {
     "name": "stdout",
     "output_type": "stream",
     "text": [
      "accuracy =  0.084 loss =  tensor(2.8848, dtype=torch.float64, grad_fn=<NllLossBackward>)\n"
     ]
    },
    {
     "name": "stderr",
     "output_type": "stream",
     "text": [
      "2.8820057198351376:  35%|███████████████████▋                                    | 7013/20000 [01:07<02:08, 101.45it/s]"
     ]
    },
    {
     "name": "stdout",
     "output_type": "stream",
     "text": [
      "accuracy =  0.07 loss =  tensor(2.8831, dtype=torch.float64, grad_fn=<NllLossBackward>)\n"
     ]
    },
    {
     "name": "stderr",
     "output_type": "stream",
     "text": [
      "2.8820057198351376:  40%|██████████████████████▊                                  | 8021/20000 [01:17<02:03, 96.72it/s]"
     ]
    },
    {
     "name": "stdout",
     "output_type": "stream",
     "text": [
      "accuracy =  0.076 loss =  tensor(2.8827, dtype=torch.float64, grad_fn=<NllLossBackward>)\n"
     ]
    },
    {
     "name": "stderr",
     "output_type": "stream",
     "text": [
      "2.8820057198351376:  45%|█████████████████████████▏                              | 9011/20000 [01:27<01:45, 104.24it/s]"
     ]
    },
    {
     "name": "stdout",
     "output_type": "stream",
     "text": [
      "accuracy =  0.084 loss =  tensor(2.8818, dtype=torch.float64, grad_fn=<NllLossBackward>)\n"
     ]
    },
    {
     "name": "stderr",
     "output_type": "stream",
     "text": [
      "2.8820057198351376:  50%|███████████████████████████▌                           | 10014/20000 [01:36<01:35, 104.27it/s]"
     ]
    },
    {
     "name": "stdout",
     "output_type": "stream",
     "text": [
      "accuracy =  0.066 loss =  tensor(2.8875, dtype=torch.float64, grad_fn=<NllLossBackward>)\n"
     ]
    },
    {
     "name": "stderr",
     "output_type": "stream",
     "text": [
      "2.8820057198351376:  55%|██████████████████████████████▎                        | 11016/20000 [01:46<01:24, 105.95it/s]"
     ]
    },
    {
     "name": "stdout",
     "output_type": "stream",
     "text": [
      "accuracy =  0.075 loss =  tensor(2.8856, dtype=torch.float64, grad_fn=<NllLossBackward>)\n"
     ]
    },
    {
     "name": "stderr",
     "output_type": "stream",
     "text": [
      "2.8820057198351376:  60%|█████████████████████████████████                      | 12010/20000 [01:55<01:14, 107.84it/s]"
     ]
    },
    {
     "name": "stdout",
     "output_type": "stream",
     "text": [
      "accuracy =  0.095 loss =  tensor(2.8846, dtype=torch.float64, grad_fn=<NllLossBackward>)\n"
     ]
    },
    {
     "name": "stderr",
     "output_type": "stream",
     "text": [
      "2.8820057198351376:  65%|███████████████████████████████████▊                   | 13019/20000 [02:04<01:04, 107.40it/s]"
     ]
    },
    {
     "name": "stdout",
     "output_type": "stream",
     "text": [
      "accuracy =  0.095 loss =  tensor(2.8890, dtype=torch.float64, grad_fn=<NllLossBackward>)\n"
     ]
    },
    {
     "name": "stderr",
     "output_type": "stream",
     "text": [
      "2.8820057198351376:  70%|██████████████████████████████████████▌                | 14016/20000 [02:14<00:59, 100.41it/s]"
     ]
    },
    {
     "name": "stdout",
     "output_type": "stream",
     "text": [
      "accuracy =  0.077 loss =  tensor(2.8836, dtype=torch.float64, grad_fn=<NllLossBackward>)\n"
     ]
    },
    {
     "name": "stderr",
     "output_type": "stream",
     "text": [
      "2.8820057198351376:  75%|█████████████████████████████████████████▎             | 15015/20000 [02:24<00:47, 104.11it/s]"
     ]
    },
    {
     "name": "stdout",
     "output_type": "stream",
     "text": [
      "accuracy =  0.081 loss =  tensor(2.8828, dtype=torch.float64, grad_fn=<NllLossBackward>)\n"
     ]
    },
    {
     "name": "stderr",
     "output_type": "stream",
     "text": [
      "2.8820057198351376:  80%|████████████████████████████████████████████           | 16007/20000 [02:33<00:37, 105.61it/s]"
     ]
    },
    {
     "name": "stdout",
     "output_type": "stream",
     "text": [
      "accuracy =  0.085 loss =  tensor(2.8845, dtype=torch.float64, grad_fn=<NllLossBackward>)\n"
     ]
    },
    {
     "name": "stderr",
     "output_type": "stream",
     "text": [
      "2.8820057198351376:  85%|██████████████████████████████████████████████▊        | 17017/20000 [02:42<00:28, 103.78it/s]"
     ]
    },
    {
     "name": "stdout",
     "output_type": "stream",
     "text": [
      "accuracy =  0.082 loss =  tensor(2.8895, dtype=torch.float64, grad_fn=<NllLossBackward>)\n"
     ]
    },
    {
     "name": "stderr",
     "output_type": "stream",
     "text": [
      "2.8820057198351376:  90%|█████████████████████████████████████████████████▌     | 18009/20000 [02:52<00:18, 105.06it/s]"
     ]
    },
    {
     "name": "stdout",
     "output_type": "stream",
     "text": [
      "accuracy =  0.09 loss =  tensor(2.8899, dtype=torch.float64, grad_fn=<NllLossBackward>)\n"
     ]
    },
    {
     "name": "stderr",
     "output_type": "stream",
     "text": [
      "2.8820057198351376:  95%|█████████████████████████████████████████████████████▏  | 19017/20000 [03:02<00:09, 99.63it/s]"
     ]
    },
    {
     "name": "stdout",
     "output_type": "stream",
     "text": [
      "accuracy =  0.078 loss =  tensor(2.8834, dtype=torch.float64, grad_fn=<NllLossBackward>)\n"
     ]
    },
    {
     "name": "stderr",
     "output_type": "stream",
     "text": [
      "2.8820057198351376: 100%|███████████████████████████████████████████████████████| 20000/20000 [03:11<00:00, 104.41it/s]"
     ]
    },
    {
     "name": "stdout",
     "output_type": "stream",
     "text": [
      "accuracy =  0.073 loss =  tensor(2.8889, dtype=torch.float64, grad_fn=<NllLossBackward>)\n"
     ]
    },
    {
     "name": "stderr",
     "output_type": "stream",
     "text": [
      "\n"
     ]
    },
    {
     "data": {
      "image/png": "[encoded data removed]",
      "text/plain": [
       "<Figure size 432x288 with 1 Axes>"
      ]
     },
     "metadata": {
      "needs_background": "light"
     },
     "output_type": "display_data"
    }
   ],
   "source": [
    "Epochs = 5\n",
    "Steps = 20000\n",
    "Batch_size = 1000\n",
    "optimizer1 = torch.optim.Adam(Net_encoder.parameters())\n",
    "optimizer2 = torch.optim.Adam(Net_encoder.parameters())\n",
    "criterian = torch.nn.CrossEntropyLoss()\n",
    "\n",
    "# print(training_set.sample(Batch_size)[0][0])\n",
    "\n",
    "Net_encoder = Net_encoder.double()\n",
    "classifier = classifier.double()\n",
    "\n",
    "loss = 0\n",
    "Loss_track = []\n",
    "for epoch in range(Epochs):\n",
    "    \n",
    "    Loss_list = []\n",
    "    for step in tqdm(range(Steps),desc = f\"{loss}\"):\n",
    "        \n",
    "        input_real, target = training_set.sample(Batch_size)\n",
    "        \n",
    "        input_real = input_real.astype(float)\n",
    "        target = target.astype(float)\n",
    "        \n",
    "        input_real  = torch.tensor(input_real,  requires_grad = False, dtype = torch.float64)\n",
    "        target = torch.tensor(target, requires_grad = False, dtype = torch.float64)\n",
    "        \n",
    "        latent_space = Net_encoder(input_real)\n",
    "        output  = classifier(latent_space)\n",
    "        \n",
    "        output_pred = torch.nn.functional.softmax(output,dim = 1)\n",
    "        loss = criterian(output_pred, target.long())\n",
    "        Loss_list.append(loss.item())\n",
    "        \n",
    "        optimizer1.zero_grad()\n",
    "        optimizer2.zero_grad()\n",
    "        \n",
    "        loss.backward()\n",
    "        \n",
    "        optimizer1.step()\n",
    "        optimizer2.step()\n",
    "        \n",
    "        if (step+1) % 100 == 0:\n",
    "            Loss_track.append(np.mean(Loss_list))\n",
    "            Loss_list = []\n",
    "        if (step+1) % 1000 == 0:\n",
    "            validation_input, validation_outcome = validation_set.sample(Batch_size)\n",
    "            \n",
    "            latent_space = Net_encoder(input_real)\n",
    "            output  = torch.argmax(classifier(latent_space), -1)\n",
    "            validation_outcome = torch.tensor(validation_outcome)\n",
    "            accuracy = (output == validation_outcome).sum().item() / Batch_size\n",
    "            print(\"accuracy = \", accuracy, \"loss = \", loss)\n",
    "    plt.plot(Loss_track)\n",
    "    plt.show()\n",
    "    \n"
   ]
  },
  {
   "cell_type": "code",
   "execution_count": 32,
   "id": "configured-anniversary",
   "metadata": {},
   "outputs": [],
   "source": [
    "torch.save(Net_encoder, 'check_point/Net_encoder2.pkl')  # entire net\n",
    "torch.save(Net_encoder.state_dict(), 'check_point/Net_encoder_para2.pkl')  # parameters\n",
    "torch.save(classifier, 'check_point/Net_decoder2.pkl')  # entire net\n",
    "torch.save(classifier.state_dict(), 'check_point/Net_decoder_para2.pkl')  # parameters"
   ]
  },
  {
   "cell_type": "code",
   "execution_count": 33,
   "id": "modified-jones",
   "metadata": {},
   "outputs": [
    {
     "data": {
      "image/png": "[encoded data removed]",
      "text/plain": [
       "<Figure size 432x288 with 1 Axes>"
      ]
     },
     "metadata": {
      "needs_background": "light"
     },
     "output_type": "display_data"
    }
   ],
   "source": [
    "check_point_encoder = \"check_point/Net_encoder_para2.pkl\"\n",
    "check_point_decoder = \"check_point/Net_decoder_para2.pkl\"\n",
    "Net_encoder.load_state_dict(torch.load(check_point_encoder))\n",
    "classifier.load_state_dict(torch.load(check_point_decoder))\n",
    "classifier = classifier.double()\n",
    "\n",
    "Group = []\n",
    "genre_num = 19\n",
    "Net_encoder.float()\n",
    "for idx in range(genre_num):\n",
    "    data = read_genre(idx)\n",
    "    sample_num = int(np.sqrt(len(data)))\n",
    "    genre_data_shuffled = shuffle(data)\n",
    "    data = genre_data_shuffled.values\n",
    "    \n",
    "    sample = []\n",
    "    for i in [3,4,5,6,7,9, 10,11,12,13,14,15]:\n",
    "        column = diction[i]\n",
    "        mean, var = full_music_data[column]\n",
    "        temp = (data[:,i] - mean) / var\n",
    "        sample.append(temp)\n",
    "    \n",
    "    data = np.vstack(sample).T.astype(np.double)\n",
    "    sample_input = torch.tensor(data[:sample_num],requires_grad = False,dtype = torch.float)\n",
    "    \n",
    "    dots  = Net_encoder(sample_input).detach().numpy().T\n",
    "    plt.scatter(x = dots[0], y = dots[1], label = f\"{idx}\")\n",
    "\n",
    "plt.legend()\n",
    "plt.show()\n",
    " "
   ]
  },
  {
   "cell_type": "code",
   "execution_count": 38,
   "id": "portable-cincinnati",
   "metadata": {},
   "outputs": [
    {
     "name": "stdout",
     "output_type": "stream",
     "text": [
      "(83, 12)\n",
      "(28, 12)\n",
      "(217, 12)\n",
      "(32, 12)\n",
      "(79, 12)\n",
      "(101, 12)\n",
      "(35, 12)\n",
      "(37, 12)\n",
      "(26, 12)\n",
      "(38, 12)\n",
      "(87, 12)\n",
      "(68, 12)\n",
      "(48, 12)\n",
      "(37, 12)\n",
      "(18, 12)\n",
      "(15, 12)\n",
      "(36, 12)\n",
      "(7, 12)\n",
      "(16, 12)\n"
     ]
    },
    {
     "data": {
      "image/png": "[encoded data removed]",
      "text/plain": [
       "<Figure size 432x288 with 1 Axes>"
      ]
     },
     "metadata": {
      "needs_background": "light"
     },
     "output_type": "display_data"
    }
   ],
   "source": [
    "\n",
    "\n",
    "vect1 = np.array([ 0.24006461,  0.51178766,  0.31524798,  0.18438805,  0.48660936, -0.01623115,\n",
    "                  -0.45638209, -0.26077016,  0.06859866,  0.10301124,  0.13256424, -0.02887823,])\n",
    "vect2 = np.array([ 0.54121104,  -0.1981502,  0.47659031, -0.15101233,  -0.1080518,   0.1121257,\n",
    "                   0.19148305, -0.17355167, -0.33586548, -0.15334972, -0.20160952, -0.38714675,])\n",
    "\n",
    "Group = []\n",
    "genre_num = 19\n",
    "for idx in range(genre_num):\n",
    "    data = read_genre(idx)\n",
    "    sample_num = int(np.sqrt(len(data)))\n",
    "    genre_data_shuffled = shuffle(data)\n",
    "    data = genre_data_shuffled.values\n",
    "    \n",
    "    sample = []\n",
    "    for i in [3,4,5,6,7,9, 10,11,12,13,14,15]:\n",
    "        column = diction[i]\n",
    "        mean, var = full_music_data[column]\n",
    "        temp = (data[:,i] - mean) / var\n",
    "        sample.append(temp)\n",
    "    \n",
    "    data = np.vstack(sample).T.astype(np.double)\n",
    "    sample_input = data[:sample_num]\n",
    "    print(sample_input.shape)\n",
    "    \n",
    "    x_axis = np.sum(sample_input * vect1, axis = -1)\n",
    "    y_axis = np.sum(sample_input * vect2, axis = -1)\n",
    "\n",
    "    \n",
    "    plt.scatter(x = x_axis, y = y_axis, label = f\"{idx}\")\n",
    "\n",
    "plt.legend()\n",
    "plt.show()\n",
    " "
   ]
  },
  {
   "cell_type": "code",
   "execution_count": null,
   "id": "affiliated-pierce",
   "metadata": {},
   "outputs": [],
   "source": []
  }
 ],
 "metadata": {
  "kernelspec": {
   "display_name": "Python 3",
   "language": "python",
   "name": "python3"
  },
  "language_info": {
   "codemirror_mode": {
    "name": "ipython",
    "version": 3
   },
   "file_extension": ".py",
   "mimetype": "text/x-python",
   "name": "python",
   "nbconvert_exporter": "python",
   "pygments_lexer": "ipython3",
   "version": "3.9.1"
  }
 },
 "nbformat": 4,
 "nbformat_minor": 5
}
